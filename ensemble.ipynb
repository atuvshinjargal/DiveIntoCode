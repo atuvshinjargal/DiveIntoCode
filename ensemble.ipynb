{
 "cells": [
  {
   "cell_type": "code",
   "execution_count": 2,
   "metadata": {},
   "outputs": [],
   "source": [
    "import matplotlib.pyplot as plt\n",
    "%matplotlib inline\n",
    "import numpy as np\n",
    "import pandas as pd\n",
    "import seaborn as sns\n",
    "from sklearn.model_selection import train_test_split\n",
    "from sklearn.preprocessing import StandardScaler\n",
    "from sklearn.linear_model import LinearRegression\n",
    "from sklearn.svm import SVR\n",
    "from sklearn.tree import DecisionTreeRegressor\n",
    "from sklearn.metrics import mean_squared_error\n",
    "import random"
   ]
  },
  {
   "cell_type": "code",
   "execution_count": 3,
   "metadata": {},
   "outputs": [
    {
     "data": {
      "text/html": [
       "<div>\n",
       "<style scoped>\n",
       "    .dataframe tbody tr th:only-of-type {\n",
       "        vertical-align: middle;\n",
       "    }\n",
       "\n",
       "    .dataframe tbody tr th {\n",
       "        vertical-align: top;\n",
       "    }\n",
       "\n",
       "    .dataframe thead th {\n",
       "        text-align: right;\n",
       "    }\n",
       "</style>\n",
       "<table border=\"1\" class=\"dataframe\">\n",
       "  <thead>\n",
       "    <tr style=\"text-align: right;\">\n",
       "      <th></th>\n",
       "      <th>YearBuilt</th>\n",
       "      <th>GrLivArea</th>\n",
       "      <th>SalePrice</th>\n",
       "    </tr>\n",
       "  </thead>\n",
       "  <tbody>\n",
       "    <tr>\n",
       "      <th>0</th>\n",
       "      <td>2003</td>\n",
       "      <td>1710</td>\n",
       "      <td>208500</td>\n",
       "    </tr>\n",
       "    <tr>\n",
       "      <th>1</th>\n",
       "      <td>1976</td>\n",
       "      <td>1262</td>\n",
       "      <td>181500</td>\n",
       "    </tr>\n",
       "    <tr>\n",
       "      <th>2</th>\n",
       "      <td>2001</td>\n",
       "      <td>1786</td>\n",
       "      <td>223500</td>\n",
       "    </tr>\n",
       "    <tr>\n",
       "      <th>3</th>\n",
       "      <td>1915</td>\n",
       "      <td>1717</td>\n",
       "      <td>140000</td>\n",
       "    </tr>\n",
       "    <tr>\n",
       "      <th>4</th>\n",
       "      <td>2000</td>\n",
       "      <td>2198</td>\n",
       "      <td>250000</td>\n",
       "    </tr>\n",
       "  </tbody>\n",
       "</table>\n",
       "</div>"
      ],
      "text/plain": [
       "   YearBuilt  GrLivArea  SalePrice\n",
       "0       2003       1710     208500\n",
       "1       1976       1262     181500\n",
       "2       2001       1786     223500\n",
       "3       1915       1717     140000\n",
       "4       2000       2198     250000"
      ]
     },
     "execution_count": 3,
     "metadata": {},
     "output_type": "execute_result"
    }
   ],
   "source": [
    "df = pd.read_csv(\"./train.csv\",\n",
    "                 usecols=[\"GrLivArea\", \"YearBuilt\", \"SalePrice\"])\n",
    "df.head()"
   ]
  },
  {
   "cell_type": "code",
   "execution_count": 5,
   "metadata": {},
   "outputs": [],
   "source": [
    "# Logarithmic transformation\n",
    "df = np.log(df)\n",
    "\n",
    "# Split\n",
    "X = df[[\"YearBuilt\", \"GrLivArea\"]]\n",
    "y = df[[\"SalePrice\"]]\n",
    "# ndarray conversion\n",
    "X_array = X.values\n",
    "y_array = y.values\n",
    "# split, shuffle True\n",
    "X_train, X_valid, y_train, y_valid = train_test_split(\n",
    "     X_array, y_array, test_size=0.2, random_state=0, shuffle=True)\n",
    "\n",
    "# Standardize each feature\n",
    "# Separate X and y and instantiate\n",
    "scaler_X = StandardScaler()\n",
    "scaler_y = StandardScaler()\n",
    "X_train = scaler_X.fit_transform(X_train)\n",
    "X_valid = scaler_X.transform(X_valid)\n",
    "y_train = scaler_y.fit_transform(y_train).ravel()\n",
    "y_valid = scaler_y.transform(y_valid).ravel()\n",
    "\n",
    "# y_train = y_train.ravel()\n",
    "# y_valid = y_valid.ravel()"
   ]
  },
  {
   "cell_type": "code",
   "execution_count": 6,
   "metadata": {},
   "outputs": [
    {
     "name": "stdout",
     "output_type": "stream",
     "text": [
      "MSE : LinearRegression\n",
      "2.7e-01\n"
     ]
    }
   ],
   "source": [
    "# LinearRegression\n",
    "reg_b = LinearRegression().fit(X_train, y_train)\n",
    "pred_reg_b = reg_b.predict(X_valid)\n",
    "print(\"MSE : LinearRegression\")\n",
    "print('{:.1e}'.format(mean_squared_error(y_valid, pred_reg_b)))  "
   ]
  },
  {
   "cell_type": "code",
   "execution_count": 7,
   "metadata": {},
   "outputs": [
    {
     "name": "stdout",
     "output_type": "stream",
     "text": [
      "MSE : SVR\n",
      "2.3e-01\n"
     ]
    }
   ],
   "source": [
    "# SVR\n",
    "svr_b = SVR().fit(X_train, y_train)\n",
    "pred_svr_b = svr_b.predict(X_valid)\n",
    "print(\"MSE : SVR\")\n",
    "print('{:.1e}'.format(mean_squared_error(y_valid, pred_svr_b)))  "
   ]
  },
  {
   "cell_type": "code",
   "execution_count": 8,
   "metadata": {},
   "outputs": [
    {
     "name": "stdout",
     "output_type": "stream",
     "text": [
      "MSE : DecisionTreeRegressor\n",
      "4.6e-01\n"
     ]
    }
   ],
   "source": [
    "# DecisionTreeRegressor\n",
    "dt_b = DecisionTreeRegressor().fit(X_train, y_train)\n",
    "pred_dt_b = dt_b.predict(X_valid)\n",
    "print(\"MSE : DecisionTreeRegressor\")\n",
    "print('{:.1e}'.format(mean_squared_error(y_valid, pred_dt_b))) "
   ]
  },
  {
   "cell_type": "code",
   "execution_count": 10,
   "metadata": {},
   "outputs": [
    {
     "name": "stdout",
     "output_type": "stream",
     "text": [
      "MSE\n",
      "LinearRegression + SVR : \n",
      "2.4e-01\n",
      "\n",
      "LinearRegression + DecisionTreeRegressor : \n",
      "2.9e-01\n",
      "\n",
      "SVR + DecisionTreeRegressor : \n",
      "3.1e-01\n"
     ]
    }
   ],
   "source": [
    "# blending (average)\n",
    "\n",
    "# LinearRegression + SVR\n",
    "pred_reg_svr = (pred_reg_b + pred_svr_b)/2\n",
    "# LinearRegression + DecisionTreeRegressor\n",
    "pred_reg_dt = (pred_reg_b + pred_dt_b)/2\n",
    "# SVR + DecisionTreeRegressor\n",
    "pred_svr_dt = (pred_svr_b + pred_dt_b)/3\n",
    "\n",
    "print(\"MSE\")\n",
    "print(\"LinearRegression + SVR : \")\n",
    "print('{:.1e}\\n'.format(mean_squared_error(y_valid, pred_reg_svr)))\n",
    "print(\"LinearRegression + DecisionTreeRegressor : \")\n",
    "print('{:.1e}\\n'.format(mean_squared_error(y_valid, pred_reg_dt)))\n",
    "print(\"SVR + DecisionTreeRegressor : \")\n",
    "print('{:.1e}'.format(mean_squared_error(y_valid, pred_svr_dt)))"
   ]
  },
  {
   "cell_type": "code",
   "execution_count": 12,
   "metadata": {},
   "outputs": [
    {
     "data": {
      "text/plain": [
       "1168"
      ]
     },
     "execution_count": 12,
     "metadata": {},
     "output_type": "execute_result"
    }
   ],
   "source": [
    "X_train.shape[0]"
   ]
  },
  {
   "cell_type": "code",
   "execution_count": 13,
   "metadata": {},
   "outputs": [
    {
     "name": "stdout",
     "output_type": "stream",
     "text": [
      "MSE : DecisionTreeRegressor / bagging\n",
      "2.7e-01\n"
     ]
    }
   ],
   "source": [
    "# Random sampling with duplicates from the sample index 500\n",
    "index_list = [i for i in range(X_train.shape[0])]\n",
    "\n",
    "# Initialize predictor\n",
    "pred = 0\n",
    "# repeat 10 times\n",
    "for n in range(10):\n",
    "     index = random.choices(index_list, k=500)\n",
    "     # DecisionTreeRegressor\n",
    "     dt = DecisionTreeRegressor().fit(X_train[index], y_train[index])\n",
    "     pred_dt = dt.predict(X_valid)\n",
    "     # total\n",
    "     pred += pred_dt\n",
    "\n",
    "# output the average\n",
    "print(\"MSE : DecisionTreeRegressor / bagging\")\n",
    "print('{:.1e}'.format(mean_squared_error(y_valid, pred/10)))"
   ]
  },
  {
   "cell_type": "code",
   "execution_count": 14,
   "metadata": {},
   "outputs": [
    {
     "name": "stdout",
     "output_type": "stream",
     "text": [
      "(1168, 3)\n"
     ]
    }
   ],
   "source": [
    "# Cross-validation learning\n",
    "# Scratch every K-fold\n",
    "\n",
    "# Division number\n",
    "N = 4\n",
    "# Number of samples after division\n",
    "num = X_train.shape[0]//N\n",
    "\n",
    "# list of learning models\n",
    "model_list = [LinearRegression, SVR, DecisionTreeRegressor]\n",
    "# list for retrieving trained models\n",
    "model_para=[]\n",
    "model_para_all = []\n",
    "# Empty data to store the blend data\n",
    "blend_data = np.zeros([y_train.shape[0], 3])\n",
    "\n",
    "for i, model in enumerate(model_list):\n",
    "     # Initialize per-model list\n",
    "     model_para = []\n",
    "     for n in range(N):\n",
    "         # No shuffling here, as train_test_split is shuffling\n",
    "         # get index after split\n",
    "         index_valid = [a for a in range(num*n, num*(n+1))]\n",
    "         index_train = [i for i in index_list if i not in index_valid]\n",
    "         # study\n",
    "         model_reg = model().fit(X_train[index_train], y_train[index_train])\n",
    "         # predict\n",
    "         blend_data[index_valid, i] = model_reg.predict(X_train[index_valid])\n",
    "         # get model\n",
    "         model_para.append(model_reg)\n",
    "     model_para_all.append(model_para)\n",
    "\n",
    "print(blend_data.shape)"
   ]
  },
  {
   "cell_type": "code",
   "execution_count": 15,
   "metadata": {},
   "outputs": [],
   "source": [
    "svr_st = SVR(C=1.0, epsilon=0.2, kernel=\"linear\").fit(blend_data, y_train)"
   ]
  },
  {
   "cell_type": "code",
   "execution_count": 20,
   "metadata": {},
   "outputs": [
    {
     "name": "stderr",
     "output_type": "stream",
     "text": [
      "c:\\Users\\NewTech\\anaconda3\\envs\\myenv\\lib\\site-packages\\ipykernel_launcher.py:4: DeprecationWarning: `np.float` is a deprecated alias for the builtin `float`. To silence this warning, use `float` by itself. Doing this will not modify any behavior and is safe. If you specifically wanted the numpy scalar type, use `np.float64` here.\n",
      "Deprecated in NumPy 1.20; for more details and guidance: https://numpy.org/devdocs/release/1.20.0-notes.html#deprecations\n",
      "  after removing the cwd from sys.path.\n"
     ]
    }
   ],
   "source": [
    "# cross-validation prediction\n",
    "\n",
    "# Initialize predictor\n",
    "blend_pred = np.zeros([y_valid.shape[0], 3], dtype=np.float)\n",
    "# predict\n",
    "for n, models in enumerate(model_para_all):\n",
    "     # Initialize predictions for each model\n",
    "     pred = np.zeros_like(y_valid)\n",
    "     for model in models:\n",
    "        pred = pred + model.predict(X_valid)\n",
    "     blend_pred[:, n] = pred/3"
   ]
  },
  {
   "cell_type": "code",
   "execution_count": 21,
   "metadata": {},
   "outputs": [
    {
     "name": "stdout",
     "output_type": "stream",
     "text": [
      "MSE : stacking\n",
      "2.9e-01\n"
     ]
    }
   ],
   "source": [
    "# Prediction on blended data\n",
    "print(\"MSE : stacking\")\n",
    "print('{:.1e}'.format(mean_squared_error(y_valid, svr_st.predict(blend_pred))))"
   ]
  }
 ],
 "metadata": {
  "kernelspec": {
   "display_name": "myenv",
   "language": "python",
   "name": "python3"
  },
  "language_info": {
   "codemirror_mode": {
    "name": "ipython",
    "version": 3
   },
   "file_extension": ".py",
   "mimetype": "text/x-python",
   "name": "python",
   "nbconvert_exporter": "python",
   "pygments_lexer": "ipython3",
   "version": "3.7.16"
  },
  "orig_nbformat": 4
 },
 "nbformat": 4,
 "nbformat_minor": 2
}
