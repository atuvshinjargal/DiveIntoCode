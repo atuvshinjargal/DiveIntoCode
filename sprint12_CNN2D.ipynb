{
 "cells": [
  {
   "cell_type": "code",
   "execution_count": 1,
   "metadata": {},
   "outputs": [],
   "source": [
    "import numpy as np"
   ]
  },
  {
   "cell_type": "markdown",
   "metadata": {},
   "source": [
    "## 【問題1】2次元畳み込み層の作成"
   ]
  },
  {
   "cell_type": "markdown",
   "metadata": {},
   "source": [
    "### トイデータでスクラッチ"
   ]
  },
  {
   "cell_type": "code",
   "execution_count": 2,
   "metadata": {},
   "outputs": [
    {
     "data": {
      "text/plain": [
       "array([[[[5, 8, 2, 7],\n",
       "         [5, 3, 7, 1],\n",
       "         [7, 3, 2, 3],\n",
       "         [5, 4, 2, 2]]],\n",
       "\n",
       "\n",
       "       [[[4, 5, 8, 2],\n",
       "         [3, 4, 4, 5],\n",
       "         [4, 7, 5, 2],\n",
       "         [1, 5, 3, 8]]]])"
      ]
     },
     "execution_count": 2,
     "metadata": {},
     "output_type": "execute_result"
    }
   ],
   "source": [
    "# トイデータ\n",
    "X_toy = np.random.randint(1, 9, (2, 1, 4, 4)) # NCHW\n",
    "X_toy"
   ]
  },
  {
   "cell_type": "code",
   "execution_count": 3,
   "metadata": {},
   "outputs": [],
   "source": [
    "stride = 1\n",
    "pad = 1"
   ]
  },
  {
   "cell_type": "code",
   "execution_count": 4,
   "metadata": {},
   "outputs": [
    {
     "data": {
      "text/plain": [
       "((2, 1, 6, 6),\n",
       " array([[[[0, 0, 0, 0, 0, 0],\n",
       "          [0, 5, 8, 2, 7, 0],\n",
       "          [0, 5, 3, 7, 1, 0],\n",
       "          [0, 7, 3, 2, 3, 0],\n",
       "          [0, 5, 4, 2, 2, 0],\n",
       "          [0, 0, 0, 0, 0, 0]]],\n",
       " \n",
       " \n",
       "        [[[0, 0, 0, 0, 0, 0],\n",
       "          [0, 4, 5, 8, 2, 0],\n",
       "          [0, 3, 4, 4, 5, 0],\n",
       "          [0, 4, 7, 5, 2, 0],\n",
       "          [0, 1, 5, 3, 8, 0],\n",
       "          [0, 0, 0, 0, 0, 0]]]]))"
      ]
     },
     "execution_count": 4,
     "metadata": {},
     "output_type": "execute_result"
    }
   ],
   "source": [
    "X = np.pad(X_toy, [(0, 0), (0, 0),  (pad, pad), (pad, pad)])\n",
    "X.shape, X"
   ]
  },
  {
   "cell_type": "code",
   "execution_count": 5,
   "metadata": {},
   "outputs": [
    {
     "data": {
      "text/plain": [
       "((2, 3, 3),\n",
       " (1,),\n",
       " array([[[1., 1., 1.],\n",
       "         [1., 1., 1.],\n",
       "         [1., 1., 1.]],\n",
       " \n",
       "        [[1., 1., 1.],\n",
       "         [1., 1., 1.],\n",
       "         [1., 1., 1.]]]),\n",
       " array([1]))"
      ]
     },
     "execution_count": 5,
     "metadata": {},
     "output_type": "execute_result"
    }
   ],
   "source": [
    "F = np.ones((2, 3, 3)) # 重みフィルタ（O, FH, FW）\n",
    "B = np.array([1]) # Xのチャネル分\n",
    "F.shape, B.shape, F, B"
   ]
  },
  {
   "cell_type": "code",
   "execution_count": 6,
   "metadata": {},
   "outputs": [],
   "source": [
    "# 型を取得\n",
    "O, FH, FW = F.shape\n",
    "N, C, H, W = X.shape\n",
    "H_out = (H - FH) //  stride + 1\n",
    "W_out = (W - FW) //  stride + 1"
   ]
  },
  {
   "cell_type": "code",
   "execution_count": 7,
   "metadata": {},
   "outputs": [
    {
     "data": {
      "text/plain": [
       "((2, 4, 4),\n",
       " array([[[0., 0., 0., 0.],\n",
       "         [0., 0., 0., 0.],\n",
       "         [0., 0., 0., 0.],\n",
       "         [0., 0., 0., 0.]],\n",
       " \n",
       "        [[0., 0., 0., 0.],\n",
       "         [0., 0., 0., 0.],\n",
       "         [0., 0., 0., 0.],\n",
       "         [0., 0., 0., 0.]]]))"
      ]
     },
     "execution_count": 7,
     "metadata": {},
     "output_type": "execute_result"
    }
   ],
   "source": [
    "out = np.zeros((O, H_out, W_out))\n",
    "out.shape, out"
   ]
  },
  {
   "cell_type": "markdown",
   "metadata": {},
   "source": [
    "#### toy_forward"
   ]
  },
  {
   "cell_type": "code",
   "execution_count": 8,
   "metadata": {},
   "outputs": [
    {
     "data": {
      "text/plain": [
       "array([[[21.,  0.,  0.,  0.],\n",
       "        [ 0.,  0.,  0.,  0.],\n",
       "        [ 0.,  0.,  0.,  0.],\n",
       "        [ 0.,  0.,  0.,  0.]],\n",
       "\n",
       "       [[ 0.,  0.,  0.,  0.],\n",
       "        [ 0.,  0.,  0.,  0.],\n",
       "        [ 0.,  0.,  0.,  0.],\n",
       "        [ 0.,  0.,  0.,  0.]]])"
      ]
     },
     "execution_count": 8,
     "metadata": {},
     "output_type": "execute_result"
    }
   ],
   "source": [
    "# outの0行0列目のセル\n",
    "out[0, 0, 0] += (X[0, 0, 0 : 0+FH, 0 : 0+FW] * F[0, :, :]).sum()\n",
    "out"
   ]
  },
  {
   "cell_type": "code",
   "execution_count": 9,
   "metadata": {},
   "outputs": [
    {
     "data": {
      "text/plain": [
       "array([[[21., 30.,  0.,  0.],\n",
       "        [ 0.,  0.,  0.,  0.],\n",
       "        [ 0.,  0.,  0.,  0.],\n",
       "        [ 0.,  0.,  0.,  0.]],\n",
       "\n",
       "       [[ 0.,  0.,  0.,  0.],\n",
       "        [ 0.,  0.,  0.,  0.],\n",
       "        [ 0.,  0.,  0.,  0.],\n",
       "        [ 0.,  0.,  0.,  0.]]])"
      ]
     },
     "execution_count": 9,
     "metadata": {},
     "output_type": "execute_result"
    }
   ],
   "source": [
    "# outの0行1列目のセル\n",
    "out[0, 0, 1] += (X[0, 0, 0 : 0+FH, 1 : 1+FW] * F[0, :, :]).sum()\n",
    "out"
   ]
  },
  {
   "cell_type": "code",
   "execution_count": 10,
   "metadata": {},
   "outputs": [
    {
     "data": {
      "text/plain": [
       "array([[[21., 30., 28.,  0.],\n",
       "        [ 0.,  0.,  0.,  0.],\n",
       "        [ 0.,  0.,  0.,  0.],\n",
       "        [ 0.,  0.,  0.,  0.]],\n",
       "\n",
       "       [[ 0.,  0.,  0.,  0.],\n",
       "        [ 0.,  0.,  0.,  0.],\n",
       "        [ 0.,  0.,  0.,  0.],\n",
       "        [ 0.,  0.,  0.,  0.]]])"
      ]
     },
     "execution_count": 10,
     "metadata": {},
     "output_type": "execute_result"
    }
   ],
   "source": [
    "# outの0行2列目のセル\n",
    "out[0, 0, 2] += (X[0, 0, 0 : 0+FH, 2 : 2+FW] * F[0, :, :]).sum()\n",
    "out"
   ]
  },
  {
   "cell_type": "code",
   "execution_count": 11,
   "metadata": {},
   "outputs": [
    {
     "data": {
      "text/plain": [
       "array([[[21., 30., 28., 17.],\n",
       "        [ 0.,  0.,  0.,  0.],\n",
       "        [ 0.,  0.,  0.,  0.],\n",
       "        [ 0.,  0.,  0.,  0.]],\n",
       "\n",
       "       [[ 0.,  0.,  0.,  0.],\n",
       "        [ 0.,  0.,  0.,  0.],\n",
       "        [ 0.,  0.,  0.,  0.],\n",
       "        [ 0.,  0.,  0.,  0.]]])"
      ]
     },
     "execution_count": 11,
     "metadata": {},
     "output_type": "execute_result"
    }
   ],
   "source": [
    "# outの0行3列目のセル\n",
    "out[0, 0, 3] += (X[0, 0, 0 : 0+FH, 3 : 3+FW] * F[0, :, :]).sum()\n",
    "out"
   ]
  },
  {
   "cell_type": "code",
   "execution_count": 12,
   "metadata": {},
   "outputs": [
    {
     "data": {
      "text/plain": [
       "array([[[21., 30., 28., 17.],\n",
       "        [31.,  0.,  0.,  0.],\n",
       "        [ 0.,  0.,  0.,  0.],\n",
       "        [ 0.,  0.,  0.,  0.]],\n",
       "\n",
       "       [[ 0.,  0.,  0.,  0.],\n",
       "        [ 0.,  0.,  0.,  0.],\n",
       "        [ 0.,  0.,  0.,  0.],\n",
       "        [ 0.,  0.,  0.,  0.]]])"
      ]
     },
     "execution_count": 12,
     "metadata": {},
     "output_type": "execute_result"
    }
   ],
   "source": [
    "# outの1行0列目のセル\n",
    "out[0, 1, 0] += (X[0, 0, 1 : 1+FH, 0 : 0+FW] * F[0, :, :]).sum()\n",
    "out"
   ]
  },
  {
   "cell_type": "code",
   "execution_count": 13,
   "metadata": {},
   "outputs": [
    {
     "data": {
      "text/plain": [
       "array([[[21., 30., 28., 17.],\n",
       "        [31., 42.,  0.,  0.],\n",
       "        [ 0.,  0.,  0.,  0.],\n",
       "        [ 0.,  0.,  0.,  0.]],\n",
       "\n",
       "       [[ 0.,  0.,  0.,  0.],\n",
       "        [ 0.,  0.,  0.,  0.],\n",
       "        [ 0.,  0.,  0.,  0.],\n",
       "        [ 0.,  0.,  0.,  0.]]])"
      ]
     },
     "execution_count": 13,
     "metadata": {},
     "output_type": "execute_result"
    }
   ],
   "source": [
    "# outの1行1列目のセル\n",
    "out[0, 1, 1] += (X[0, 0, 1 : 1+FH, 1 : 1+FW] * F[0, :, :]).sum()\n",
    "out"
   ]
  },
  {
   "cell_type": "code",
   "execution_count": 14,
   "metadata": {},
   "outputs": [
    {
     "name": "stdout",
     "output_type": "stream",
     "text": [
      "[[[22. 31. 29. 18.]\n",
      "  [32. 43. 37. 23.]\n",
      "  [28. 39. 28. 18.]\n",
      "  [20. 24. 17. 10.]]\n",
      "\n",
      " [[ 0.  0.  0.  0.]\n",
      "  [ 0.  0.  0.  0.]\n",
      "  [ 0.  0.  0.  0.]\n",
      "  [ 0.  0.  0.  0.]]]\n"
     ]
    }
   ],
   "source": [
    "# 上の流れをループ処理化\n",
    "out = np.zeros((O, H_out, W_out))\n",
    "\n",
    "for h in range(H_out): \n",
    "    for w in range(W_out):\n",
    "        out[0, h, w] += (X[0, 0, h : h+FH, w : w+FW] * F[0, :, :]).sum()\n",
    "out[0, :, :] += B\n",
    "print(out)"
   ]
  },
  {
   "cell_type": "code",
   "execution_count": 15,
   "metadata": {},
   "outputs": [
    {
     "name": "stdout",
     "output_type": "stream",
     "text": [
      "[[[22. 31. 29. 18.]\n",
      "  [32. 43. 37. 23.]\n",
      "  [28. 39. 28. 18.]\n",
      "  [20. 24. 17. 10.]]\n",
      "\n",
      " [[ 0.  0.  0.  0.]\n",
      "  [ 0.  0.  0.  0.]\n",
      "  [ 0.  0.  0.  0.]\n",
      "  [ 0.  0.  0.  0.]]]\n"
     ]
    }
   ],
   "source": [
    "# ↑をチャネル毎に（ここではC＝1なので変わらない）\n",
    "out = np.zeros((O, H_out, W_out))\n",
    "\n",
    "for c in range(C):\n",
    "    for h in range(H_out): \n",
    "        for w in range(W_out):\n",
    "            out[0, h, w] += (X[0, c, h : h+FH, w : w+FW] * F[0, :, :]).sum()\n",
    "    out[0, :, :] += B\n",
    "print(out)"
   ]
  },
  {
   "cell_type": "code",
   "execution_count": 16,
   "metadata": {},
   "outputs": [
    {
     "name": "stdout",
     "output_type": "stream",
     "text": [
      "[[[39. 60. 58. 38.]\n",
      "  [60. 88. 80. 50.]\n",
      "  [53. 76. 72. 46.]\n",
      "  [38. 50. 48. 29.]]\n",
      "\n",
      " [[ 0.  0.  0.  0.]\n",
      "  [ 0.  0.  0.  0.]\n",
      "  [ 0.  0.  0.  0.]\n",
      "  [ 0.  0.  0.  0.]]]\n"
     ]
    }
   ],
   "source": [
    "# ↑を入力チャネル毎に\n",
    "out = np.zeros((O, H_out, W_out))\n",
    "\n",
    "for n in range(N):\n",
    "    for c in range(C):\n",
    "        for h in range(H_out): \n",
    "            for w in range(W_out):\n",
    "                out[0, h, w] += (X[n, c, h : h+FH, w : w+FW] * F[0, :, :]).sum()\n",
    "        out[0, :, :] += B\n",
    "print(out)"
   ]
  },
  {
   "cell_type": "code",
   "execution_count": 17,
   "metadata": {},
   "outputs": [
    {
     "name": "stdout",
     "output_type": "stream",
     "text": [
      "[[[39. 60. 58. 38.]\n",
      "  [60. 88. 80. 50.]\n",
      "  [53. 76. 72. 46.]\n",
      "  [38. 50. 48. 29.]]\n",
      "\n",
      " [[39. 60. 58. 38.]\n",
      "  [60. 88. 80. 50.]\n",
      "  [53. 76. 72. 46.]\n",
      "  [38. 50. 48. 29.]]]\n"
     ]
    }
   ],
   "source": [
    "# ↑を出力チャネル毎に\n",
    "out1 = np.zeros((O, H_out, W_out))\n",
    "\n",
    "for o in range(O):\n",
    "    for n in range(N):\n",
    "        for c in range(C):\n",
    "            for h in range(H_out): \n",
    "                for w in range(W_out):\n",
    "                    out1[o, h, w] += (X[n, c, h : h+FH, w : w+FW] * F[o, :, :]).sum()\n",
    "            out1[o, :, :] += B\n",
    "print(out1)"
   ]
  },
  {
   "cell_type": "code",
   "execution_count": 18,
   "metadata": {},
   "outputs": [],
   "source": [
    "# strideを変える\n",
    "\n",
    "stride = 3\n",
    "H_out = (H - FH) //  stride + 1\n",
    "W_out = (W - FW) //  stride + 1"
   ]
  },
  {
   "cell_type": "code",
   "execution_count": 19,
   "metadata": {},
   "outputs": [
    {
     "name": "stdout",
     "output_type": "stream",
     "text": [
      "[[[39. 38.]\n",
      "  [38. 29.]]\n",
      "\n",
      " [[39. 38.]\n",
      "  [38. 29.]]]\n"
     ]
    }
   ],
   "source": [
    "# ↑にstrideを追加\n",
    "\n",
    "out = np.zeros((O, H_out, W_out))\n",
    "\n",
    "for o in range(O):\n",
    "    for n in range(N):\n",
    "        for c in range(C):\n",
    "            for h in range(H_out): \n",
    "                for w in range(W_out):\n",
    "                    out[o, h, w] += (X[n, c, (h*stride) : (h*stride)+FH, (w*stride) : (w*stride)+FW] * F[o, :, :]).sum()\n",
    "            out[o, :, :] += B\n",
    "print(out)"
   ]
  },
  {
   "cell_type": "markdown",
   "metadata": {},
   "source": [
    "#### toy_backward"
   ]
  },
  {
   "cell_type": "code",
   "execution_count": 20,
   "metadata": {},
   "outputs": [
    {
     "data": {
      "text/plain": [
       "((2, 4, 4),\n",
       " array([[[39., 60., 58., 38.],\n",
       "         [60., 88., 80., 50.],\n",
       "         [53., 76., 72., 46.],\n",
       "         [38., 50., 48., 29.]],\n",
       " \n",
       "        [[39., 60., 58., 38.],\n",
       "         [60., 88., 80., 50.],\n",
       "         [53., 76., 72., 46.],\n",
       "         [38., 50., 48., 29.]]]))"
      ]
     },
     "execution_count": 20,
     "metadata": {},
     "output_type": "execute_result"
    }
   ],
   "source": [
    "# pad1, stride1の結果の誤差を使う\n",
    "dA1 = out1.copy()\n",
    "dA1.shape, dA1 # O, H_out, W_out"
   ]
  },
  {
   "cell_type": "code",
   "execution_count": 21,
   "metadata": {},
   "outputs": [
    {
     "data": {
      "text/plain": [
       "((2, 1, 6, 6),\n",
       " array([[[[0., 0., 0., 0., 0., 0.],\n",
       "          [0., 0., 0., 0., 0., 0.],\n",
       "          [0., 0., 0., 0., 0., 0.],\n",
       "          [0., 0., 0., 0., 0., 0.],\n",
       "          [0., 0., 0., 0., 0., 0.],\n",
       "          [0., 0., 0., 0., 0., 0.]]],\n",
       " \n",
       " \n",
       "        [[[0., 0., 0., 0., 0., 0.],\n",
       "          [0., 0., 0., 0., 0., 0.],\n",
       "          [0., 0., 0., 0., 0., 0.],\n",
       "          [0., 0., 0., 0., 0., 0.],\n",
       "          [0., 0., 0., 0., 0., 0.],\n",
       "          [0., 0., 0., 0., 0., 0.]]]]))"
      ]
     },
     "execution_count": 21,
     "metadata": {},
     "output_type": "execute_result"
    }
   ],
   "source": [
    "# delta_x\n",
    "\n",
    "delta_x = np.zeros((X.shape))\n",
    "delta_x.shape, delta_x # N, C, H, W"
   ]
  },
  {
   "cell_type": "code",
   "execution_count": 22,
   "metadata": {},
   "outputs": [
    {
     "name": "stdout",
     "output_type": "stream",
     "text": [
      "[[[[39. 39. 39. 60. 60. 60.]\n",
      "   [39. 39. 39. 60. 60. 60.]\n",
      "   [39. 39. 39. 60. 60. 60.]\n",
      "   [60. 60. 60. 88. 88. 88.]\n",
      "   [60. 60. 60. 88. 88. 88.]\n",
      "   [60. 60. 60. 88. 88. 88.]]]\n",
      "\n",
      "\n",
      " [[[ 0.  0.  0.  0.  0.  0.]\n",
      "   [ 0.  0.  0.  0.  0.  0.]\n",
      "   [ 0.  0.  0.  0.  0.  0.]\n",
      "   [ 0.  0.  0.  0.  0.  0.]\n",
      "   [ 0.  0.  0.  0.  0.  0.]\n",
      "   [ 0.  0.  0.  0.  0.  0.]]]]\n"
     ]
    }
   ],
   "source": [
    "delta_x = np.zeros((X.shape))\n",
    "\n",
    "for h in range(H_out): \n",
    "    for w in range(W_out):\n",
    "        delta_x[0, 0, (h*stride) : (h*stride)+FH, (w*stride) : (w*stride)+FW] += dA1[0, h, w] * F[0, :, :]\n",
    "print(delta_x)"
   ]
  },
  {
   "cell_type": "code",
   "execution_count": 23,
   "metadata": {},
   "outputs": [
    {
     "name": "stdout",
     "output_type": "stream",
     "text": [
      "[[[[ 78.  78.  78. 120. 120. 120.]\n",
      "   [ 78.  78.  78. 120. 120. 120.]\n",
      "   [ 78.  78.  78. 120. 120. 120.]\n",
      "   [120. 120. 120. 176. 176. 176.]\n",
      "   [120. 120. 120. 176. 176. 176.]\n",
      "   [120. 120. 120. 176. 176. 176.]]]\n",
      "\n",
      "\n",
      " [[[ 78.  78.  78. 120. 120. 120.]\n",
      "   [ 78.  78.  78. 120. 120. 120.]\n",
      "   [ 78.  78.  78. 120. 120. 120.]\n",
      "   [120. 120. 120. 176. 176. 176.]\n",
      "   [120. 120. 120. 176. 176. 176.]\n",
      "   [120. 120. 120. 176. 176. 176.]]]]\n"
     ]
    }
   ],
   "source": [
    "delta_x = np.zeros((X.shape))\n",
    "\n",
    "for o in range(O):\n",
    "    for n in range(N):\n",
    "        for c in range(C):\n",
    "            for h in range(H_out): \n",
    "                for w in range(W_out):\n",
    "                    delta_x[n, c, (h*stride) : (h*stride)+FH, (w*stride) : (w*stride)+FW] += dA1[o, h, w] * F[o, :, :]\n",
    "print(delta_x)"
   ]
  },
  {
   "cell_type": "code",
   "execution_count": 24,
   "metadata": {},
   "outputs": [
    {
     "data": {
      "text/plain": [
       "((2, 1, 4, 4),\n",
       " array([[[[ 78.,  78., 120., 120.],\n",
       "          [ 78.,  78., 120., 120.],\n",
       "          [120., 120., 176., 176.],\n",
       "          [120., 120., 176., 176.]]],\n",
       " \n",
       " \n",
       "        [[[ 78.,  78., 120., 120.],\n",
       "          [ 78.,  78., 120., 120.],\n",
       "          [120., 120., 176., 176.],\n",
       "          [120., 120., 176., 176.]]]]))"
      ]
     },
     "execution_count": 24,
     "metadata": {},
     "output_type": "execute_result"
    }
   ],
   "source": [
    "# paddingした分をリサイズし、元の入力サイズと同じにする\n",
    "delta_x = delta_x[:, :, pad : -pad, pad : -pad]\n",
    "delta_x.shape, delta_x"
   ]
  },
  {
   "cell_type": "code",
   "execution_count": 25,
   "metadata": {},
   "outputs": [
    {
     "name": "stdout",
     "output_type": "stream",
     "text": [
      "[494.]\n"
     ]
    }
   ],
   "source": [
    "# delta_b\n",
    "\n",
    "delta_b = np.zeros((B.shape))\n",
    "\n",
    "for o in range(O):\n",
    "    for c in range(C):\n",
    "        for h in range(H_out): \n",
    "            for w in range(W_out):\n",
    "                delta_b[c] += dA1[o, h, w].sum()     \n",
    "print(delta_b)"
   ]
  },
  {
   "cell_type": "code",
   "execution_count": 26,
   "metadata": {},
   "outputs": [
    {
     "name": "stdout",
     "output_type": "stream",
     "text": [
      "[[[ 616. 1100.  600.]\n",
      "  [1040. 2131. 1047.]\n",
      "  [ 660.  672.  273.]]\n",
      "\n",
      " [[ 616. 1100.  600.]\n",
      "  [1040. 2131. 1047.]\n",
      "  [ 660.  672.  273.]]]\n"
     ]
    }
   ],
   "source": [
    "# delta_f\n",
    "\n",
    "delta_f = np.zeros((F.shape))\n",
    "\n",
    "for o in range(O):\n",
    "    for n in range(N):\n",
    "        for c in range(C):\n",
    "            for h in range(H_out): \n",
    "                for w in range(W_out):\n",
    "                    delta_f[o, :, :] += dA1[o, h, w] * X[n, c, (h*stride) : (h*stride)+FH, (w*stride) : (w*stride)+FW]\n",
    "print(delta_f)                    "
   ]
  },
  {
   "cell_type": "markdown",
   "metadata": {},
   "source": [
    "### クラス化"
   ]
  },
  {
   "cell_type": "code",
   "execution_count": 27,
   "metadata": {},
   "outputs": [],
   "source": [
    "class Conv2d():\n",
    "    \n",
    "    \"\"\"\n",
    "    ノード数n_nodes1からn_nodes2への全結合層\n",
    "    Parameters\n",
    "    ----------\n",
    "    n_nodes1 : int\n",
    "      前の層のノード数\n",
    "    n_nodes2 : int\n",
    "      後の層のノード数\n",
    "    initializer : 初期化方法のインスタンス\n",
    "    optimizer : 最適化手法のインスタンス\n",
    "    \"\"\"\n",
    "    \n",
    "    def __init__(self, F, lr = 0.001, stride=1, pad=1):\n",
    "        \n",
    "        #self.optimizer = optimizer\n",
    "        \n",
    "        #forward\n",
    "        self.X = None\n",
    "        \n",
    "        self.N = None #入力サンプル数\n",
    "        self.C = None # 入力チャネル数\n",
    "        self.H = None #高さ方向の特徴量\n",
    "        self.W = None #幅方向の特徴量\n",
    "        \n",
    "        self.O = None # 出力チャネル数\n",
    "        self.FH = None #フィルタ高さ\n",
    "        self.FW = None # フィルタ幅\n",
    "        \n",
    "        self.F = F\n",
    "        self.B = np.array([0.]) # C\n",
    "             \n",
    "        self.pad = pad\n",
    "        self.stride = stride\n",
    "        \n",
    "        \n",
    "        # backward\n",
    "        self.H_out = None\n",
    "        self.W_out = None\n",
    "        \n",
    "        #self.dW = None\n",
    "        #self.dB = None\n",
    "        \n",
    "        self.lr = lr\n",
    "    \n",
    "    \n",
    "    def conv_forward(self, X):\n",
    "        \"\"\"\n",
    "        フォワード\n",
    "        \n",
    "        Parameters\n",
    "        ----------\n",
    "        X : 次の形のndarray, shape (batch_size, n_nodes1)\n",
    "            入力\n",
    "            \n",
    "        Returns\n",
    "        ----------\n",
    "        A : 次の形のndarray, shape (batch_size, n_nodes2)\n",
    "            出力\n",
    "        \"\"\"\n",
    "        # ストライド・パディング\n",
    "        stride = self.stride\n",
    "        pad = self.pad\n",
    "               \n",
    "        # 入力にパディング\n",
    "        X = np.pad(X, [(0, 0), (0, 0),  (pad, pad), (pad, pad)])\n",
    "        \n",
    "        # 重みの型を取る\n",
    "        O, FH, FW = self.F.shape\n",
    "        \n",
    "        self.O = O\n",
    "        self.FH = FH\n",
    "        self.FW = FW\n",
    "        \n",
    "        # 入力の型を取る\n",
    "        N, C, H, W = X.shape\n",
    "        \n",
    "        self.N = N\n",
    "        self.C = C\n",
    "        self.H = H #pad後\n",
    "        self.W = W #pad後\n",
    "        \n",
    "        self.X = X\n",
    "        \n",
    "        F = self.F\n",
    "        B = self.B\n",
    "\n",
    "        # 出力サイズ\n",
    "        H_out = (H - FH) //  stride + 1\n",
    "        W_out = (W - FW) //  stride + 1\n",
    "        \n",
    "        self.H_out = H_out #backward用\n",
    "        self.W_out = W_out #backward用\n",
    "        \n",
    "\n",
    "        out = np.zeros((O, H_out, W_out))\n",
    "\n",
    "        for o in range(O):\n",
    "            for n in range(N):\n",
    "                for c in range(C):\n",
    "                    for h in range(H_out): \n",
    "                        for w in range(W_out):\n",
    "                            out[o, h, w] += (X[n, c, (h*stride) : (h*stride)+FH, (w*stride) : (w*stride)+FW] * F[o, :, :]).sum()\n",
    "                    out[o, :, :] += B\n",
    "    \n",
    "        return out\n",
    "    \n",
    "    \n",
    "    def conv_backward(self, dA):\n",
    "        \n",
    "        \"\"\"\n",
    "        バックワード\n",
    "        \n",
    "        Parameters\n",
    "        ----------\n",
    "        dA : 次の形のndarray, shape (batch_size, n_nodes2)\n",
    "            後ろから流れてきた勾配\n",
    "            \n",
    "        Returns\n",
    "        ----------\n",
    "        dZ : 次の形のndarray, shape (batch_size, n_nodes1)\n",
    "            前に流す勾配\n",
    "            \n",
    "        \"\"\"\n",
    "        \n",
    "        N = self.N #入力サンプル数\n",
    "        C = self.C # 入力チャネル数\n",
    "        H = self.H #高さ方向の特徴量\n",
    "        W = self.W #幅方向の特徴量\n",
    "        \n",
    "        O = self.O # 出力チャネル数\n",
    "        FH = self.FH #フィルタ高さ\n",
    "        FW = self.FW # フィルタ幅\n",
    "        \n",
    "        H_out = self.H_out\n",
    "        W_out = self.W_out\n",
    "        \n",
    "        # ストライド・パディング\n",
    "        stride = self.stride\n",
    "        pad = self.pad\n",
    "        \n",
    "        \n",
    "        # delta_x\n",
    "        delta_x = np.zeros((self.X.shape))\n",
    "        \n",
    "        for o in range(O):\n",
    "            for n in range(N):\n",
    "                for c in range(C):\n",
    "                    for h in range(H_out): \n",
    "                        for w in range(W_out):\n",
    "                            delta_x[n, c, (h*stride) : (h*stride)+FH, (w*stride) : (w*stride)+FW] += dA[o, h, w] * F[o, :, :]\n",
    "        \n",
    "        delta_x = delta_x[:, :, pad : -pad, pad : -pad]\n",
    "        \n",
    "    \n",
    "        # delta_b\n",
    "        delta_b = np.zeros((self.B.shape))\n",
    "\n",
    "        for o in range(O):\n",
    "            for c in range(C):\n",
    "                for h in range(H_out): \n",
    "                    for w in range(W_out):\n",
    "                        delta_b[c] += dA[o, h, w].sum()     \n",
    "        \n",
    "        \n",
    "        # delta_f\n",
    "        delta_f = np.zeros((self.F.shape))\n",
    "\n",
    "        for o in range(O):\n",
    "            for n in range(N):\n",
    "                for c in range(C):\n",
    "                    for h in range(H_out): \n",
    "                        for w in range(W_out):\n",
    "                            delta_f[o, :, :] += dA[o, h, w] * X[n, c, (h*stride) : (h*stride)+FH, (w*stride) : (w*stride)+FW]\n",
    " \n",
    "\n",
    "        # optimizerに流す前にデータ型を揃える\n",
    "        self.F = delta_f.astype(np.float64)\n",
    "        self.B = delta_b.astype(np.float64)\n",
    "        \n",
    "        # 更新\n",
    "        self.F -= self.lr * delta_f\n",
    "        self.B -= self.lr * delta_b\n",
    "        #self.optimizer.update(self)\n",
    "        \n",
    "        print(\"self.F\" + str(self.F))\n",
    "        print(\"self.B\" + str(self.B))\n",
    "        \n",
    "        return delta_x"
   ]
  },
  {
   "cell_type": "markdown",
   "metadata": {},
   "source": [
    "## 【問題2】小さな配列での2次元畳み込み層の実験"
   ]
  },
  {
   "cell_type": "markdown",
   "metadata": {},
   "source": [
    "### forward"
   ]
  },
  {
   "cell_type": "code",
   "execution_count": 28,
   "metadata": {},
   "outputs": [],
   "source": [
    "#CNN2 のフォワードを流す時の入力データ\n",
    "\n",
    "#(1,1,4,4)\n",
    "x = np.array([\n",
    "                    [\n",
    "                    [\n",
    "                    [ 1, 2, 3, 4],\n",
    "                    [ 5, 6, 7, 8],\n",
    "                    [ 9, 10, 11, 12],\n",
    "                    [13, 14, 15, 16]\n",
    "                    ],\n",
    "                    ],\n",
    "                    ])\n",
    "\n",
    "#(2,3,3)\n",
    "w = np.array([\n",
    "                    [\n",
    "                    [ 0., 0., 0.],\n",
    "                    [ 0., 1., 0.],\n",
    "                    [ 0., -1., 0.],\n",
    "                    ],\n",
    "                    [\n",
    "                    [ 0., 0., 0.],\n",
    "                    [ 0., -1., 1.],\n",
    "                    [ 0., 0., 0.]\n",
    "                    ]\n",
    "                    ])\n"
   ]
  },
  {
   "cell_type": "code",
   "execution_count": 29,
   "metadata": {},
   "outputs": [
    {
     "data": {
      "text/plain": [
       "((1, 1, 4, 4), (2, 3, 3))"
      ]
     },
     "execution_count": 29,
     "metadata": {},
     "output_type": "execute_result"
    }
   ],
   "source": [
    "x.shape, w.shape"
   ]
  },
  {
   "cell_type": "code",
   "execution_count": 30,
   "metadata": {},
   "outputs": [],
   "source": [
    "c2d = Conv2d(w, stride=1, pad=0)"
   ]
  },
  {
   "cell_type": "code",
   "execution_count": 31,
   "metadata": {},
   "outputs": [
    {
     "data": {
      "text/plain": [
       "array([[[-4., -4.],\n",
       "        [-4., -4.]],\n",
       "\n",
       "       [[ 1.,  1.],\n",
       "        [ 1.,  1.]]])"
      ]
     },
     "execution_count": 31,
     "metadata": {},
     "output_type": "execute_result"
    }
   ],
   "source": [
    "c2d.conv_forward(x)"
   ]
  },
  {
   "cell_type": "code",
   "execution_count": 32,
   "metadata": {},
   "outputs": [],
   "source": [
    "# 出力\n",
    "forward_output = np.array([\n",
    "                                            [\n",
    "                                            [-4,-4],\n",
    "                                            [-4,-4],\n",
    "                                            ],\n",
    "                                            [\n",
    "                                            [1,1],\n",
    "                                            [1,1],\n",
    "                                            ]\n",
    "                                            ])\n",
    "#(1,2,2,)"
   ]
  },
  {
   "cell_type": "code",
   "execution_count": 33,
   "metadata": {},
   "outputs": [
    {
     "data": {
      "text/plain": [
       "(2, 2, 2)"
      ]
     },
     "execution_count": 33,
     "metadata": {},
     "output_type": "execute_result"
    }
   ],
   "source": [
    "forward_output.shape"
   ]
  },
  {
   "cell_type": "markdown",
   "metadata": {},
   "source": [
    "### backward"
   ]
  },
  {
   "cell_type": "code",
   "execution_count": 34,
   "metadata": {},
   "outputs": [],
   "source": [
    "delta = np.array([\n",
    "                         [\n",
    "                         [-4,-4],\n",
    "                         [10,11],\n",
    "                         ],\n",
    "                         [\n",
    "                         [1,-7],\n",
    "                         [1,-11],\n",
    "                         ]\n",
    "                         ])"
   ]
  },
  {
   "cell_type": "code",
   "execution_count": 35,
   "metadata": {},
   "outputs": [],
   "source": [
    "back_output = np.array([\n",
    "                                     [-5,4],\n",
    "                                     [13,27],\n",
    "                                     ])"
   ]
  },
  {
   "cell_type": "code",
   "execution_count": 36,
   "metadata": {},
   "outputs": [
    {
     "data": {
      "text/plain": [
       "((2, 2, 2),\n",
       " array([[[ -4,  -4],\n",
       "         [ 10,  11]],\n",
       " \n",
       "        [[  1,  -7],\n",
       "         [  1, -11]]]))"
      ]
     },
     "execution_count": 36,
     "metadata": {},
     "output_type": "execute_result"
    }
   ],
   "source": [
    "delta.shape, delta"
   ]
  },
  {
   "cell_type": "code",
   "execution_count": 37,
   "metadata": {},
   "outputs": [
    {
     "name": "stdout",
     "output_type": "stream",
     "text": [
      "self.F[[[  54.945  137.862  101.898]\n",
      "  [  34.965   30.969   66.933]\n",
      "  [  56.943   70.929   11.988]]\n",
      "\n",
      " [[ -54.945  -82.917  -13.986]\n",
      "  [ -89.91   -78.921  -79.92 ]\n",
      "  [-111.888  -41.958  -64.935]]]\n",
      "self.B[-2.997]\n"
     ]
    },
    {
     "data": {
      "text/plain": [
       "array([], shape=(1, 1, 0, 0), dtype=float64)"
      ]
     },
     "execution_count": 37,
     "metadata": {},
     "output_type": "execute_result"
    }
   ],
   "source": [
    "# padding=0の場合\n",
    "c2d.conv_backward(delta)"
   ]
  },
  {
   "cell_type": "markdown",
   "metadata": {},
   "source": [
    "## 【問題3】2次元畳み込み後の出力サイズ"
   ]
  },
  {
   "cell_type": "code",
   "execution_count": 38,
   "metadata": {},
   "outputs": [],
   "source": [
    "def calc_kernel_2d(H, W):\n",
    "    \n",
    "    H_out = (H + 2*pad - FH) //  stride + 1\n",
    "    W_out = (W + 2*pad - FW) //  stride + 1\n",
    "    return H_out, W_out"
   ]
  },
  {
   "cell_type": "markdown",
   "metadata": {},
   "source": [
    "## 【問題4】最大プーリング層の作成"
   ]
  },
  {
   "cell_type": "markdown",
   "metadata": {},
   "source": [
    "### 4-1-1. トイデータによるforward"
   ]
  },
  {
   "cell_type": "code",
   "execution_count": 39,
   "metadata": {},
   "outputs": [
    {
     "data": {
      "text/plain": [
       "((2, 1, 4, 4),\n",
       " array([[[[5, 8, 2, 7],\n",
       "          [5, 3, 7, 1],\n",
       "          [7, 3, 2, 3],\n",
       "          [5, 4, 2, 2]]],\n",
       " \n",
       " \n",
       "        [[[4, 5, 8, 2],\n",
       "          [3, 4, 4, 5],\n",
       "          [4, 7, 5, 2],\n",
       "          [1, 5, 3, 8]]]]))"
      ]
     },
     "execution_count": 39,
     "metadata": {},
     "output_type": "execute_result"
    }
   ],
   "source": [
    "X_toy.shape, X_toy # N, C, H, W"
   ]
  },
  {
   "cell_type": "code",
   "execution_count": 40,
   "metadata": {},
   "outputs": [],
   "source": [
    "PFH, PFW = 2, 2 # Poolingフィルタサイズ\n",
    "stride = 2 # stride幅はフィルタサイズと同一\n",
    "\n",
    "N, C, H, W = X_toy.shape"
   ]
  },
  {
   "cell_type": "code",
   "execution_count": 41,
   "metadata": {},
   "outputs": [
    {
     "data": {
      "text/plain": [
       "(2, 2)"
      ]
     },
     "execution_count": 41,
     "metadata": {},
     "output_type": "execute_result"
    }
   ],
   "source": [
    "# フィルターサイズ抽出\n",
    "\n",
    "H_out, W_out = calc_kernel_2d(H, W)\n",
    "H_out, W_out"
   ]
  },
  {
   "cell_type": "code",
   "execution_count": 42,
   "metadata": {},
   "outputs": [
    {
     "data": {
      "text/plain": [
       "array([[[[0., 0.],\n",
       "         [0., 0.]]],\n",
       "\n",
       "\n",
       "       [[[0., 0.],\n",
       "         [0., 0.]]]])"
      ]
     },
     "execution_count": 42,
     "metadata": {},
     "output_type": "execute_result"
    }
   ],
   "source": [
    "# 出力サイズ\n",
    "\n",
    "out = np.zeros((2, 1, 2, 2)) # N, C, H_out, W_out\n",
    "out"
   ]
  },
  {
   "cell_type": "code",
   "execution_count": 43,
   "metadata": {},
   "outputs": [
    {
     "data": {
      "text/plain": [
       "array([[[[8., 0.],\n",
       "         [0., 0.]]],\n",
       "\n",
       "\n",
       "       [[[0., 0.],\n",
       "         [0., 0.]]]])"
      ]
     },
     "execution_count": 43,
     "metadata": {},
     "output_type": "execute_result"
    }
   ],
   "source": [
    "# outの0行0列目のセル\n",
    "out[0, 0, 0, 0] += X_toy[0, 0, 0 : 0+PFH, 0 : 0+PFW].max()\n",
    "out"
   ]
  },
  {
   "cell_type": "code",
   "execution_count": 44,
   "metadata": {},
   "outputs": [
    {
     "data": {
      "text/plain": [
       "array([[[[8., 7.],\n",
       "         [0., 0.]]],\n",
       "\n",
       "\n",
       "       [[[0., 0.],\n",
       "         [0., 0.]]]])"
      ]
     },
     "execution_count": 44,
     "metadata": {},
     "output_type": "execute_result"
    }
   ],
   "source": [
    "# outの0行1列目のセル（Pool域はstride分飛ぶ）\n",
    "out[0, 0, 0, 1] += X_toy[0, 0, 0 : 0+PFH, 2 : 2+PFW].max()\n",
    "out"
   ]
  },
  {
   "cell_type": "code",
   "execution_count": 45,
   "metadata": {},
   "outputs": [
    {
     "data": {
      "text/plain": [
       "array([[[[8., 7.],\n",
       "         [7., 0.]]],\n",
       "\n",
       "\n",
       "       [[[0., 0.],\n",
       "         [0., 0.]]]])"
      ]
     },
     "execution_count": 45,
     "metadata": {},
     "output_type": "execute_result"
    }
   ],
   "source": [
    "# outの1行0列目のセル\n",
    "out[0, 0, 1, 0] += X_toy[0, 0, 2 : 2+PFH, 0 : 0+PFW].max()\n",
    "out"
   ]
  },
  {
   "cell_type": "code",
   "execution_count": 46,
   "metadata": {},
   "outputs": [
    {
     "data": {
      "text/plain": [
       "array([[[[8., 7.],\n",
       "         [7., 3.]]],\n",
       "\n",
       "\n",
       "       [[[0., 0.],\n",
       "         [0., 0.]]]])"
      ]
     },
     "execution_count": 46,
     "metadata": {},
     "output_type": "execute_result"
    }
   ],
   "source": [
    "# outの1行1列目のセル\n",
    "out[0, 0, 1, 1] += X_toy[0, 0, 2 : 2+PFH, 2 : 2+PFW].max()\n",
    "out"
   ]
  },
  {
   "cell_type": "code",
   "execution_count": 47,
   "metadata": {},
   "outputs": [
    {
     "data": {
      "text/plain": [
       "((2, 1, 2, 2),\n",
       " array([[[[8., 7.],\n",
       "          [7., 3.]]],\n",
       " \n",
       " \n",
       "        [[[5., 8.],\n",
       "          [7., 8.]]]]))"
      ]
     },
     "execution_count": 47,
     "metadata": {},
     "output_type": "execute_result"
    }
   ],
   "source": [
    "out = np.zeros((2, 1, 2, 2)) # N, C, H_out, W_out\n",
    "\n",
    "for n in range(N):\n",
    "    for c in range(C):\n",
    "        for h in range(H_out): \n",
    "            for w in range(W_out):\n",
    "                out[n, c, h, w] += X_toy[n, c, h*stride : h*stride+PFH, w*stride : w*stride+PFW].max()\n",
    "                \n",
    "out.shape, out"
   ]
  },
  {
   "cell_type": "markdown",
   "metadata": {},
   "source": [
    "### 4-1-2. トイデータによる最大値の位置情報埋め込み特徴マップの生成"
   ]
  },
  {
   "cell_type": "code",
   "execution_count": 48,
   "metadata": {},
   "outputs": [
    {
     "data": {
      "text/plain": [
       "array([[[[0., 0., 0., 0.],\n",
       "         [0., 0., 0., 0.],\n",
       "         [0., 0., 0., 0.],\n",
       "         [0., 0., 0., 0.]]],\n",
       "\n",
       "\n",
       "       [[[0., 0., 0., 0.],\n",
       "         [0., 0., 0., 0.],\n",
       "         [0., 0., 0., 0.],\n",
       "         [0., 0., 0., 0.]]]])"
      ]
     },
     "execution_count": 48,
     "metadata": {},
     "output_type": "execute_result"
    }
   ],
   "source": [
    "#特徴マップの空箱を生成\n",
    "\n",
    "out_map = np.zeros((X_toy.shape))\n",
    "out_map"
   ]
  },
  {
   "cell_type": "code",
   "execution_count": 49,
   "metadata": {},
   "outputs": [
    {
     "data": {
      "text/plain": [
       "array([[[[0., 1., 0., 0.],\n",
       "         [0., 0., 0., 0.],\n",
       "         [0., 0., 0., 0.],\n",
       "         [0., 0., 0., 0.]]],\n",
       "\n",
       "\n",
       "       [[[0., 0., 0., 0.],\n",
       "         [0., 0., 0., 0.],\n",
       "         [0., 0., 0., 0.],\n",
       "         [0., 0., 0., 0.]]]])"
      ]
     },
     "execution_count": 49,
     "metadata": {},
     "output_type": "execute_result"
    }
   ],
   "source": [
    "# 特徴マップに最大値の位置情報を{0, 1}で残す\n",
    "\n",
    "out_map[0, 0, 0 : 0+PFH, 0 : 0+PFW] += X_toy[0, 0, 0 : 0+PFH, 0 : 0+PFW].max()==X_toy[0, 0, 0 : 0+PFH, 0 : 0+PFW]\n",
    "out_map"
   ]
  },
  {
   "cell_type": "code",
   "execution_count": 50,
   "metadata": {},
   "outputs": [
    {
     "data": {
      "text/plain": [
       "array([[[[0., 1., 0., 1.],\n",
       "         [0., 0., 1., 0.],\n",
       "         [0., 0., 0., 0.],\n",
       "         [0., 0., 0., 0.]]],\n",
       "\n",
       "\n",
       "       [[[0., 0., 0., 0.],\n",
       "         [0., 0., 0., 0.],\n",
       "         [0., 0., 0., 0.],\n",
       "         [0., 0., 0., 0.]]]])"
      ]
     },
     "execution_count": 50,
     "metadata": {},
     "output_type": "execute_result"
    }
   ],
   "source": [
    "out_map[0, 0, 0 : 0+PFH, 2 : 2+PFW] += X_toy[0, 0, 0 : 0+PFH, 2 : 2+PFW].max()==X_toy[0, 0, 0 : 0+PFH, 2 : 2+PFW]\n",
    "out_map"
   ]
  },
  {
   "cell_type": "code",
   "execution_count": 51,
   "metadata": {},
   "outputs": [
    {
     "data": {
      "text/plain": [
       "array([[[[0., 1., 0., 1.],\n",
       "         [0., 0., 1., 0.],\n",
       "         [1., 0., 0., 0.],\n",
       "         [0., 0., 0., 0.]]],\n",
       "\n",
       "\n",
       "       [[[0., 0., 0., 0.],\n",
       "         [0., 0., 0., 0.],\n",
       "         [0., 0., 0., 0.],\n",
       "         [0., 0., 0., 0.]]]])"
      ]
     },
     "execution_count": 51,
     "metadata": {},
     "output_type": "execute_result"
    }
   ],
   "source": [
    "out_map[0, 0, 2 : 2+PFH, 0 : 0+PFW] += X_toy[0, 0, 2 : 2+PFH, 0 : 0+PFW].max()==X_toy[0, 0, 2 : 2+PFH, 0 : 0+PFW]\n",
    "out_map"
   ]
  },
  {
   "cell_type": "code",
   "execution_count": 52,
   "metadata": {},
   "outputs": [
    {
     "data": {
      "text/plain": [
       "array([[[[0., 1., 0., 1.],\n",
       "         [0., 0., 1., 0.],\n",
       "         [1., 0., 0., 1.],\n",
       "         [0., 0., 0., 0.]]],\n",
       "\n",
       "\n",
       "       [[[0., 0., 0., 0.],\n",
       "         [0., 0., 0., 0.],\n",
       "         [0., 0., 0., 0.],\n",
       "         [0., 0., 0., 0.]]]])"
      ]
     },
     "execution_count": 52,
     "metadata": {},
     "output_type": "execute_result"
    }
   ],
   "source": [
    "out_map[0, 0, 2 : 2+PFH, 2 : 2+PFW] += X_toy[0, 0, 2 : 2+PFH, 2 : 2+PFW].max()==X_toy[0, 0, 2 : 2+PFH, 2 : 2+PFW]\n",
    "out_map"
   ]
  },
  {
   "cell_type": "code",
   "execution_count": 53,
   "metadata": {},
   "outputs": [
    {
     "name": "stdout",
     "output_type": "stream",
     "text": [
      "[[[[8. 7.]\n",
      "   [7. 3.]]]\n",
      "\n",
      "\n",
      " [[[5. 8.]\n",
      "   [7. 8.]]]]\n",
      "[[[[0. 1. 0. 1.]\n",
      "   [0. 0. 1. 0.]\n",
      "   [1. 0. 0. 1.]\n",
      "   [0. 0. 0. 0.]]]\n",
      "\n",
      "\n",
      " [[[0. 1. 1. 0.]\n",
      "   [0. 0. 0. 0.]\n",
      "   [0. 1. 0. 0.]\n",
      "   [0. 0. 0. 1.]]]]\n"
     ]
    }
   ],
   "source": [
    "# 処理を統合\n",
    "\n",
    "N = 2\n",
    "C = 1\n",
    "H_out = 2\n",
    "W_out = 2\n",
    "\n",
    "out = np.zeros((N, C, H_out, W_out))\n",
    "out_map = np.zeros((X_toy.shape))\n",
    "\n",
    "for n in range(N):\n",
    "    for c in range(C):\n",
    "        for h in range(H_out): \n",
    "            for w in range(W_out):\n",
    "                out[n, c, h, w] += X_toy[n, c, h*stride : h*stride+PFH, w*stride : w*stride+PFW].max()\n",
    "                out_map[n, c, h*stride : h*stride+PFH, w*stride : w*stride+PFW] += X_toy[n, c, h*stride : h*stride+PFH, w*stride : w*stride+PFW].max()==X_toy[n, c, h*stride : h*stride+PFH, w*stride : w*stride+PFW]\n",
    "                \n",
    "print(out)\n",
    "print(out_map)"
   ]
  },
  {
   "cell_type": "markdown",
   "metadata": {},
   "source": [
    "### 4-1-3. トイデータによるbackward"
   ]
  },
  {
   "cell_type": "code",
   "execution_count": 54,
   "metadata": {},
   "outputs": [
    {
     "data": {
      "text/plain": [
       "array([[[[8., 7.],\n",
       "         [7., 3.]]],\n",
       "\n",
       "\n",
       "       [[[5., 8.],\n",
       "         [7., 8.]]]])"
      ]
     },
     "execution_count": 54,
     "metadata": {},
     "output_type": "execute_result"
    }
   ],
   "source": [
    "dA = out\n",
    "dA"
   ]
  },
  {
   "cell_type": "code",
   "execution_count": 55,
   "metadata": {},
   "outputs": [
    {
     "data": {
      "text/plain": [
       "array([[[[0., 1., 0., 1.],\n",
       "         [0., 0., 1., 0.],\n",
       "         [1., 0., 0., 1.],\n",
       "         [0., 0., 0., 0.]]],\n",
       "\n",
       "\n",
       "       [[[0., 1., 1., 0.],\n",
       "         [0., 0., 0., 0.],\n",
       "         [0., 1., 0., 0.],\n",
       "         [0., 0., 0., 1.]]]])"
      ]
     },
     "execution_count": 55,
     "metadata": {},
     "output_type": "execute_result"
    }
   ],
   "source": [
    "out_map"
   ]
  },
  {
   "cell_type": "code",
   "execution_count": 56,
   "metadata": {},
   "outputs": [
    {
     "data": {
      "text/plain": [
       "array([[[[0., 0., 0., 0.],\n",
       "         [0., 0., 0., 0.],\n",
       "         [0., 0., 0., 0.],\n",
       "         [0., 0., 0., 0.]]],\n",
       "\n",
       "\n",
       "       [[[0., 0., 0., 0.],\n",
       "         [0., 0., 0., 0.],\n",
       "         [0., 0., 0., 0.],\n",
       "         [0., 0., 0., 0.]]]])"
      ]
     },
     "execution_count": 56,
     "metadata": {},
     "output_type": "execute_result"
    }
   ],
   "source": [
    "# pooling_backward の出力の箱を用意しておく\n",
    "dZ = np.zeros((out_map.shape))\n",
    "dZ"
   ]
  },
  {
   "cell_type": "code",
   "execution_count": 57,
   "metadata": {},
   "outputs": [
    {
     "data": {
      "text/plain": [
       "array([[[[0., 8., 0., 0.],\n",
       "         [0., 0., 0., 0.],\n",
       "         [0., 0., 0., 0.],\n",
       "         [0., 0., 0., 0.]]],\n",
       "\n",
       "\n",
       "       [[[0., 0., 0., 0.],\n",
       "         [0., 0., 0., 0.],\n",
       "         [0., 0., 0., 0.],\n",
       "         [0., 0., 0., 0.]]]])"
      ]
     },
     "execution_count": 57,
     "metadata": {},
     "output_type": "execute_result"
    }
   ],
   "source": [
    "# np.where で特徴マップの要素が１の部分を、誤差の値で置換する\n",
    "\n",
    "dZ[0, 0, 0:0+PFH, 0:0+PFW] += np.where(out_map[0, 0, 0:0+PFH, 0:0+PFW]==1, out[0, 0, 0, 0], 0)\n",
    "dZ"
   ]
  },
  {
   "cell_type": "code",
   "execution_count": 58,
   "metadata": {},
   "outputs": [
    {
     "data": {
      "text/plain": [
       "array([[[[0., 8., 0., 7.],\n",
       "         [0., 0., 7., 0.],\n",
       "         [0., 0., 0., 0.],\n",
       "         [0., 0., 0., 0.]]],\n",
       "\n",
       "\n",
       "       [[[0., 0., 0., 0.],\n",
       "         [0., 0., 0., 0.],\n",
       "         [0., 0., 0., 0.],\n",
       "         [0., 0., 0., 0.]]]])"
      ]
     },
     "execution_count": 58,
     "metadata": {},
     "output_type": "execute_result"
    }
   ],
   "source": [
    "dZ[0, 0, 0:0+PFH, 2:2+PFW] += np.where(out_map[0, 0, 0:0+PFH, 2:2+PFW]==1, out[0, 0, 0, 1], 0)\n",
    "dZ"
   ]
  },
  {
   "cell_type": "code",
   "execution_count": 59,
   "metadata": {},
   "outputs": [
    {
     "data": {
      "text/plain": [
       "array([[[[0., 8., 0., 7.],\n",
       "         [0., 0., 7., 0.],\n",
       "         [7., 0., 0., 0.],\n",
       "         [0., 0., 0., 0.]]],\n",
       "\n",
       "\n",
       "       [[[0., 0., 0., 0.],\n",
       "         [0., 0., 0., 0.],\n",
       "         [0., 0., 0., 0.],\n",
       "         [0., 0., 0., 0.]]]])"
      ]
     },
     "execution_count": 59,
     "metadata": {},
     "output_type": "execute_result"
    }
   ],
   "source": [
    "dZ[0, 0, 2:2+PFH, 0:0+PFW] += np.where(out_map[0, 0, 2:2+PFH, 0:0+PFW]==1, out[0, 0, 1, 0], 0)\n",
    "dZ"
   ]
  },
  {
   "cell_type": "code",
   "execution_count": 60,
   "metadata": {},
   "outputs": [
    {
     "data": {
      "text/plain": [
       "array([[[[0., 8., 0., 7.],\n",
       "         [0., 0., 7., 0.],\n",
       "         [7., 0., 0., 3.],\n",
       "         [0., 0., 0., 0.]]],\n",
       "\n",
       "\n",
       "       [[[0., 0., 0., 0.],\n",
       "         [0., 0., 0., 0.],\n",
       "         [0., 0., 0., 0.],\n",
       "         [0., 0., 0., 0.]]]])"
      ]
     },
     "execution_count": 60,
     "metadata": {},
     "output_type": "execute_result"
    }
   ],
   "source": [
    "dZ[0, 0, 2:2+PFH, 2:2+PFW] += np.where(out_map[0, 0, 2:2+PFH, 2:2+PFW]==1, out[0, 0, 1, 1], 0)\n",
    "dZ"
   ]
  },
  {
   "cell_type": "code",
   "execution_count": 61,
   "metadata": {},
   "outputs": [
    {
     "data": {
      "text/plain": [
       "array([[[[0., 8., 0., 7.],\n",
       "         [0., 0., 7., 0.],\n",
       "         [7., 0., 0., 3.],\n",
       "         [0., 0., 0., 0.]]],\n",
       "\n",
       "\n",
       "       [[[0., 5., 8., 0.],\n",
       "         [0., 0., 0., 0.],\n",
       "         [0., 7., 0., 0.],\n",
       "         [0., 0., 0., 8.]]]])"
      ]
     },
     "execution_count": 61,
     "metadata": {},
     "output_type": "execute_result"
    }
   ],
   "source": [
    "# pooling_backward\n",
    "\n",
    "dZ = np.zeros((out_map.shape))\n",
    "\n",
    "for n in range(N):\n",
    "    for c in range(C):\n",
    "        for h in range(H_out):\n",
    "            for w in range(W_out):\n",
    "                dZ[n, c, h*stride : h*stride+PFH, w*stride : w*stride+PFW] += np.where(out_map[n, c, h*stride : h*stride+PFH, w*stride : w*stride+PFW]==1, out[n, c, h, w], 0)\n",
    "                \n",
    "dZ"
   ]
  },
  {
   "cell_type": "markdown",
   "metadata": {},
   "source": [
    "### 4-2. max poolingのクラス化"
   ]
  },
  {
   "cell_type": "code",
   "execution_count": 62,
   "metadata": {},
   "outputs": [],
   "source": [
    "class MaxPool2d():\n",
    "    \n",
    "    \"\"\"\n",
    "    ノード数n_nodes1からn_nodes2への全結合層\n",
    "    Parameters\n",
    "    ----------\n",
    "    n_nodes1 : int\n",
    "      前の層のノード数\n",
    "    n_nodes2 : int\n",
    "      後の層のノード数\n",
    "    initializer : 初期化方法のインスタンス\n",
    "    optimizer : 最適化手法のインスタンス\n",
    "    \"\"\"\n",
    "    \n",
    "    def __init__(self, stride, PFH, PFW):\n",
    "        \n",
    "        self.X = None\n",
    "        \n",
    "        self.N = None #入力サンプル数\n",
    "        self.C = None # 入力チャネル数\n",
    "        self.H = None #高さ方向の特徴量\n",
    "        self.W = None #幅方向の特徴量\n",
    "        \n",
    "        self.O = None # 出力チャネル数\n",
    "        self.PFH = PFH #フィルタ高さ\n",
    "        self.PFW = PFW # フィルタ幅\n",
    "        \n",
    "        self.stride = stride\n",
    "        \n",
    "        self.H_out = None\n",
    "        self.W_out = None\n",
    "        \n",
    "        self.out_map = None\n",
    "        \n",
    "        \n",
    "    def calc_kernel_2d(H, W):\n",
    "    \n",
    "        H_out = (H + 2*pad - FH) //  stride + 1\n",
    "        W_out = (W + 2*pad - FW) //  stride + 1\n",
    "        return H_out, W_out\n",
    "\n",
    "    \n",
    "    def pool_forward(self, X):\n",
    "        \"\"\"\n",
    "        フォワード\n",
    "        \n",
    "        Parameters\n",
    "        ----------\n",
    "        X : 次の形のndarray, shape (batch_size, n_nodes1)\n",
    "            入力\n",
    "            \n",
    "        Returns\n",
    "        ----------\n",
    "        A : 次の形のndarray, shape (batch_size, n_nodes2)\n",
    "            出力\n",
    "        \"\"\"\n",
    "        # ストライド\n",
    "        stride = self.stride\n",
    "               \n",
    "        # 入力の型\n",
    "        N, C, H, W = X.shape\n",
    "        \n",
    "        self.N = N #コンストラクタに値を保存\n",
    "        self.C = C\n",
    "        self.H = H \n",
    "        self.W = W\n",
    "        \n",
    "        self.X = X\n",
    "        \n",
    "        # 出力サイズ\n",
    "        H_out, W_out = calc_kernel_2d(H, W)\n",
    "        \n",
    "        self.H_out = H_out \n",
    "        self.W_out = W_out\n",
    "        \n",
    "        out = np.zeros((N, C, H_out, W_out))\n",
    "        out_map = np.zeros((X_toy.shape))\n",
    "\n",
    "        for n in range(N):\n",
    "            for c in range(C):\n",
    "                for h in range(H_out): \n",
    "                    for w in range(W_out):\n",
    "                        out[n, c, h, w] += X_toy[n, c, h*stride : h*stride+PFH, w*stride : w*stride+PFW].max()\n",
    "                        out_map[n, c, h*stride : h*stride+PFH, w*stride : w*stride+PFW] += X_toy[n, c, h*stride : h*stride+PFH, w*stride : w*stride+PFW].max()==X_toy[n, c, h*stride : h*stride+PFH, w*stride : w*stride+PFW]\n",
    "        \n",
    "        # コンストラクタに位置情報のマップを保存\n",
    "        self.out_map = out_map \n",
    "        \n",
    "        return out\n",
    "    \n",
    "    \n",
    "    def pool_backward(self, dA):\n",
    "        \n",
    "        \"\"\"\n",
    "        バックワード\n",
    "        \n",
    "        Parameters\n",
    "        ----------\n",
    "        dA : 次の形のndarray, shape (batch_size, n_nodes2)\n",
    "            後ろから流れてきた勾配\n",
    "            \n",
    "        Returns\n",
    "        ----------\n",
    "        dZ : 次の形のndarray, shape (batch_size, n_nodes1)\n",
    "            前に流す勾配\n",
    "            \n",
    "        \"\"\"\n",
    "        \n",
    "        N = self.N #入力サンプル数\n",
    "        C = self.C # 入力チャネル数\n",
    "        H = self.H #高さ方向の特徴量\n",
    "        W = self.W #幅方向の特徴量\n",
    "        \n",
    "        #O = self.O # 出力チャネル数\n",
    "        PFH = self.PFH #フィルタ高さ\n",
    "        PFW = self.PFW # フィルタ幅\n",
    "        \n",
    "        H_out = self.H_out\n",
    "        W_out = self.W_out\n",
    "        \n",
    "        stride = self.stride\n",
    "        \n",
    "        out_map = self.out_map\n",
    "        \n",
    "        dZ = np.zeros((out_map.shape))\n",
    "\n",
    "        for n in range(N):\n",
    "            for c in range(C):\n",
    "                for h in range(H_out):\n",
    "                    for w in range(W_out):\n",
    "                        dZ[n, c, h*stride : h*stride+PFH, w*stride : w*stride+PFW] += np.where(out_map[n, c, h*stride : h*stride+PFH, w*stride : w*stride+PFW]==1, out[n, c, h, w], 0)\n",
    "        \n",
    "        return dZ"
   ]
  },
  {
   "cell_type": "code",
   "execution_count": 63,
   "metadata": {},
   "outputs": [],
   "source": [
    "# MaxPool2d クラスのインスタンス生成\n",
    "\n",
    "pool2d = MaxPool2d(stride=2, PFH=2, PFW=2)"
   ]
  },
  {
   "cell_type": "code",
   "execution_count": 64,
   "metadata": {},
   "outputs": [
    {
     "data": {
      "text/plain": [
       "array([[[[8., 7.],\n",
       "         [7., 3.]]],\n",
       "\n",
       "\n",
       "       [[[5., 8.],\n",
       "         [7., 8.]]]])"
      ]
     },
     "execution_count": 64,
     "metadata": {},
     "output_type": "execute_result"
    }
   ],
   "source": [
    "# forward (strideが2, フィルタサイズが2×2、入力のサイズが４×４) \n",
    "\n",
    "out = pool2d.pool_forward(X_toy)\n",
    "out"
   ]
  },
  {
   "cell_type": "code",
   "execution_count": 65,
   "metadata": {},
   "outputs": [
    {
     "data": {
      "text/plain": [
       "array([[[[0., 8., 0., 7.],\n",
       "         [0., 0., 7., 0.],\n",
       "         [7., 0., 0., 3.],\n",
       "         [0., 0., 0., 0.]]],\n",
       "\n",
       "\n",
       "       [[[0., 5., 8., 0.],\n",
       "         [0., 0., 0., 0.],\n",
       "         [0., 7., 0., 0.],\n",
       "         [0., 0., 0., 8.]]]])"
      ]
     },
     "execution_count": 65,
     "metadata": {},
     "output_type": "execute_result"
    }
   ],
   "source": [
    "# backward\n",
    "\n",
    "pool2d.pool_backward(out)"
   ]
  },
  {
   "cell_type": "markdown",
   "metadata": {},
   "source": [
    "## 【問題6】平滑化"
   ]
  },
  {
   "cell_type": "code",
   "execution_count": 66,
   "metadata": {},
   "outputs": [
    {
     "data": {
      "text/plain": [
       "((2, 1, 4, 4),\n",
       " array([[[[5, 8, 2, 7],\n",
       "          [5, 3, 7, 1],\n",
       "          [7, 3, 2, 3],\n",
       "          [5, 4, 2, 2]]],\n",
       " \n",
       " \n",
       "        [[[4, 5, 8, 2],\n",
       "          [3, 4, 4, 5],\n",
       "          [4, 7, 5, 2],\n",
       "          [1, 5, 3, 8]]]]))"
      ]
     },
     "execution_count": 66,
     "metadata": {},
     "output_type": "execute_result"
    }
   ],
   "source": [
    "X_toy.shape, X_toy # N, C, H, W"
   ]
  },
  {
   "cell_type": "code",
   "execution_count": 67,
   "metadata": {},
   "outputs": [],
   "source": [
    "# backward用の型を保存\n",
    "\n",
    "N, C, H, W = X_toy.shape"
   ]
  },
  {
   "cell_type": "code",
   "execution_count": 68,
   "metadata": {},
   "outputs": [
    {
     "data": {
      "text/plain": [
       "array([[5, 8, 2, 7, 5, 3, 7, 1, 7, 3, 2, 3, 5, 4, 2, 2],\n",
       "       [4, 5, 8, 2, 3, 4, 4, 5, 4, 7, 5, 2, 1, 5, 3, 8]])"
      ]
     },
     "execution_count": 68,
     "metadata": {},
     "output_type": "execute_result"
    }
   ],
   "source": [
    "# forward\n",
    "\n",
    "out = X_toy.reshape(2, -1) #N, C+H+W\n",
    "out"
   ]
  },
  {
   "cell_type": "code",
   "execution_count": 69,
   "metadata": {},
   "outputs": [
    {
     "data": {
      "text/plain": [
       "array([[[[5, 8, 2, 7],\n",
       "         [5, 3, 7, 1],\n",
       "         [7, 3, 2, 3],\n",
       "         [5, 4, 2, 2]]],\n",
       "\n",
       "\n",
       "       [[[4, 5, 8, 2],\n",
       "         [3, 4, 4, 5],\n",
       "         [4, 7, 5, 2],\n",
       "         [1, 5, 3, 8]]]])"
      ]
     },
     "execution_count": 69,
     "metadata": {},
     "output_type": "execute_result"
    }
   ],
   "source": [
    "# backward\n",
    "\n",
    "dout = out.reshape(N, C, H, W)\n",
    "dout"
   ]
  },
  {
   "cell_type": "code",
   "execution_count": 70,
   "metadata": {},
   "outputs": [],
   "source": [
    "class Flatten():\n",
    "    \n",
    "    def __init__(self):\n",
    "        \n",
    "        self.N = None\n",
    "        self.C = None\n",
    "        self.H = None\n",
    "        self.W = None\n",
    "\n",
    "        \n",
    "    def flat_forward(self, X):\n",
    "        \n",
    "        self.N, self.C, self.H, self.W = X_toy.shape\n",
    "        out = X_toy.reshape(N, -1)\n",
    "        return out\n",
    "    \n",
    "    \n",
    "    def flat_backward(self, dA):\n",
    "        \n",
    "        dout = dA.reshape(self.N, self.C, self.H, self.W)\n",
    "        return dout"
   ]
  },
  {
   "cell_type": "code",
   "execution_count": 71,
   "metadata": {},
   "outputs": [],
   "source": [
    "flat = Flatten()"
   ]
  },
  {
   "cell_type": "code",
   "execution_count": 72,
   "metadata": {},
   "outputs": [
    {
     "data": {
      "text/plain": [
       "array([[5, 8, 2, 7, 5, 3, 7, 1, 7, 3, 2, 3, 5, 4, 2, 2],\n",
       "       [4, 5, 8, 2, 3, 4, 4, 5, 4, 7, 5, 2, 1, 5, 3, 8]])"
      ]
     },
     "execution_count": 72,
     "metadata": {},
     "output_type": "execute_result"
    }
   ],
   "source": [
    "# forward\n",
    "\n",
    "out = flat.flat_forward(X_toy)\n",
    "out"
   ]
  },
  {
   "cell_type": "code",
   "execution_count": 73,
   "metadata": {},
   "outputs": [
    {
     "data": {
      "text/plain": [
       "array([[[[5, 8, 2, 7],\n",
       "         [5, 3, 7, 1],\n",
       "         [7, 3, 2, 3],\n",
       "         [5, 4, 2, 2]]],\n",
       "\n",
       "\n",
       "       [[[4, 5, 8, 2],\n",
       "         [3, 4, 4, 5],\n",
       "         [4, 7, 5, 2],\n",
       "         [1, 5, 3, 8]]]])"
      ]
     },
     "execution_count": 73,
     "metadata": {},
     "output_type": "execute_result"
    }
   ],
   "source": [
    "# backward\n",
    "\n",
    "flat.flat_backward(out)"
   ]
  },
  {
   "cell_type": "markdown",
   "metadata": {},
   "source": [
    "## 【問題7】学習と推定"
   ]
  },
  {
   "cell_type": "markdown",
   "metadata": {},
   "source": [
    "## Data & Util"
   ]
  },
  {
   "cell_type": "code",
   "execution_count": 74,
   "metadata": {},
   "outputs": [],
   "source": [
    "#from keras.datasets import mnist\n",
    "from tensorflow import keras\n",
    "\n",
    "#(X_train, y_train), (X_test, y_test) = mnist.load_data()\n",
    "(X_train, y_train), (X_test, y_test) = keras.datasets.mnist.load_data()"
   ]
  },
  {
   "cell_type": "code",
   "execution_count": 75,
   "metadata": {},
   "outputs": [
    {
     "data": {
      "text/plain": [
       "(60000, 1, 28, 28)"
      ]
     },
     "execution_count": 75,
     "metadata": {},
     "output_type": "execute_result"
    }
   ],
   "source": [
    "X_train = X_train[:, np.newaxis, :, :] #NCHW\n",
    "X_train.shape"
   ]
  },
  {
   "cell_type": "code",
   "execution_count": 76,
   "metadata": {},
   "outputs": [],
   "source": [
    "# 前処理\n",
    "\n",
    "#X_train = X_train.astype(np.float)\n",
    "#X_test = X_test.astype(np.float)\n",
    "#X_train /= 255\n",
    "#X_test /= 255"
   ]
  },
  {
   "cell_type": "code",
   "execution_count": 77,
   "metadata": {},
   "outputs": [],
   "source": [
    "# 8:2にtrain_test_split\n",
    "\n",
    "from sklearn.model_selection import train_test_split\n",
    "\n",
    "X_train, X_val, y_train, y_val = train_test_split(X_train, y_train, test_size=0.2)"
   ]
  },
  {
   "cell_type": "code",
   "execution_count": 78,
   "metadata": {},
   "outputs": [],
   "source": [
    "class GetMiniBatch:\n",
    "    \n",
    "    \"\"\"\n",
    "    ミニバッチを取得するイテレータ\n",
    "    \n",
    "    Parameters\n",
    "    ----------\n",
    "    X : 次の形のndarray, shape (n_samples, n_features)\n",
    "      訓練データ\n",
    "    y : 次の形のndarray, shape (n_samples, 1)\n",
    "      正解値\n",
    "    batch_size : int\n",
    "      バッチサイズ\n",
    "    seed : int\n",
    "      NumPyの乱数のシード\n",
    "      \n",
    "    \"\"\"\n",
    "    \n",
    "    def __init__(self, X, y, batch_size = 20, seed=0):\n",
    "        \n",
    "        self.batch_size = batch_size\n",
    "        np.random.seed(seed)\n",
    "        shuffle_index = np.random.permutation(np.arange(X.shape[0]))\n",
    "        self._X = X[shuffle_index]\n",
    "        self._y = y[shuffle_index]\n",
    "        self._stop = np.ceil(X.shape[0]/self.batch_size).astype(np.int)\n",
    "        \n",
    "        \n",
    "    def __len__(self):\n",
    "        return self._stop\n",
    "    \n",
    "    \n",
    "    def __getitem__(self,item):\n",
    "        p0 = item*self.batch_size\n",
    "        p1 = item*self.batch_size + self.batch_size\n",
    "        return self._X[p0:p1], self._y[p0:p1]\n",
    "    \n",
    "    \n",
    "    def __iter__(self):\n",
    "        self._counter = 0\n",
    "        return self\n",
    "    \n",
    "    \n",
    "    def __next__(self):\n",
    "        \n",
    "        if self._counter >= self._stop:\n",
    "            raise StopIteration()\n",
    "            \n",
    "        p0 = self._counter*self.batch_size\n",
    "        p1 = self._counter*self.batch_size + self.batch_size\n",
    "        self._counter += 1\n",
    "        return self._X[p0:p1], self._y[p0:p1]"
   ]
  },
  {
   "cell_type": "markdown",
   "metadata": {},
   "source": [
    "## Layer"
   ]
  },
  {
   "cell_type": "code",
   "execution_count": 79,
   "metadata": {},
   "outputs": [],
   "source": [
    "# 全結合層\n",
    "\n",
    "class FC:\n",
    "    \n",
    "    \"\"\"\n",
    "    ノード数n_nodes1からn_nodes2への全結合層\n",
    "    Parameters\n",
    "    ----------\n",
    "    n_nodes1 : int\n",
    "      前の層のノード数\n",
    "    n_nodes2 : int\n",
    "      後の層のノード数\n",
    "    initializer : 初期化方法のインスタンス\n",
    "    optimizer : 最適化手法のインスタンス\n",
    "    \"\"\"\n",
    "    \n",
    "    def __init__(self, n_feature, n_output, initializer, optimizer):\n",
    "        \n",
    "        self.optimizer = optimizer\n",
    "        \n",
    "        self.W = initializer.W(n_feature, n_output)\n",
    "        self.B = initializer.B(n_output)\n",
    "       \n",
    "        self.X = None\n",
    "        self.dZ = None\n",
    "        \n",
    "    \n",
    "    def forward(self, X):\n",
    "        \"\"\"\n",
    "        フォワード\n",
    "        \n",
    "        Parameters\n",
    "        ----------\n",
    "        X : 次の形のndarray, shape (batch_size, n_nodes1)\n",
    "            入力\n",
    "            \n",
    "        Returns\n",
    "        ----------\n",
    "        A : 次の形のndarray, shape (batch_size, n_nodes2)\n",
    "            出力\n",
    "        \"\"\"\n",
    "        \n",
    "        self.X = X\n",
    "        \n",
    "        # アフィン変換\n",
    "        A = X.dot(self.W) + self.B\n",
    "\n",
    "        return A\n",
    "    \n",
    "    \n",
    "    def backward(self, dA):\n",
    "        \n",
    "        \"\"\"\n",
    "        バックワード\n",
    "        \n",
    "        Parameters\n",
    "        ----------\n",
    "        dA : 次の形のndarray, shape (batch_size, n_nodes2)\n",
    "            後ろから流れてきた勾配\n",
    "            \n",
    "        Returns\n",
    "        ----------\n",
    "        dZ : 次の形のndarray, shape (batch_size, n_nodes1)\n",
    "            前に流す勾配\n",
    "            \n",
    "        \"\"\"\n",
    "        # 前のノードに流す勾配\n",
    "        self.dZ = np.dot(dA, self.W.T)\n",
    "        \n",
    "        # バイアスに流す勾配\n",
    "        self.dB = np.sum(dA, axis=0)\n",
    "        \n",
    "        # 重み行列に流す勾配\n",
    "        self.dW = np.dot(self.X.T, dA)\n",
    "        \n",
    "        # 更新\n",
    "        self.optimizer.update(self)\n",
    "        \n",
    "        return self.dZ"
   ]
  },
  {
   "cell_type": "code",
   "execution_count": 80,
   "metadata": {},
   "outputs": [],
   "source": [
    "# 入出力チャネル数が同一の場合\n",
    "\n",
    "class Conv2d():\n",
    "    \n",
    "    \"\"\"\n",
    "    ノード数n_nodes1からn_nodes2への全結合層\n",
    "    Parameters\n",
    "    ----------\n",
    "    n_nodes1 : int\n",
    "      前の層のノード数\n",
    "    n_nodes2 : int\n",
    "      後の層のノード数\n",
    "    initializer : 初期化方法のインスタンス\n",
    "    optimizer : 最適化手法のインスタンス\n",
    "    \"\"\"\n",
    "    \n",
    "    def __init__(self, initializer, optimizer, N, C, FH=3, FW=3, stride=1, pad=1, lr = 0.001):\n",
    "        \n",
    "        self.optimizer = optimizer\n",
    "        \n",
    "        #forward\n",
    "        self.X = None\n",
    "        \n",
    "        self.N = None #入力サンプル数\n",
    "        self.C = None # 入力チャネル数\n",
    "        self.H = None #高さ方向の特徴量\n",
    "        self.W = None #幅方向の特徴量\n",
    "        \n",
    "        self.O = None # 出力チャネル数\n",
    "        self.FH = FH #フィルタ高さ\n",
    "        self.FW = FW # フィルタ幅\n",
    "        \n",
    "        self.initializer = initializer \n",
    "        self.F = self.initializer.W(N, C, FH, FW)\n",
    "        self.B = self.initializer.B(C)\n",
    "        \n",
    "        self.pad = pad\n",
    "        self.stride = stride\n",
    "        \n",
    "        self.H_out = None\n",
    "        self.W_out = None\n",
    "        \n",
    "        self.delta_f = None\n",
    "        self.delta_x = None\n",
    "        self.delta_b = None\n",
    "        \n",
    "        self.lr = lr\n",
    "    \n",
    "    \n",
    "    def conv_forward(self, X):\n",
    "        \"\"\"\n",
    "        フォワード\n",
    "        \n",
    "        Parameters\n",
    "        ----------\n",
    "        X : 次の形のndarray, shape (batch_size, n_nodes1)\n",
    "            入力\n",
    "            \n",
    "        Returns\n",
    "        ----------\n",
    "        A : 次の形のndarray, shape (batch_size, n_nodes2)\n",
    "            出力\n",
    "        \"\"\"\n",
    "        # ストライド・パディング\n",
    "        stride = self.stride\n",
    "        pad = self.pad\n",
    "               \n",
    "        # 入力にパディング\n",
    "        X = np.pad(X, [(0, 0), (0, 0),  (pad, pad), (pad, pad)])\n",
    "        \n",
    "        # 入力の型を取る\n",
    "        N, C, H, W = X.shape\n",
    "        \n",
    "        self.N = N\n",
    "        self.C = C\n",
    "        self.H = H #pad後\n",
    "        self.W = W #pad後\n",
    "        \n",
    "        self.X = X\n",
    "        \n",
    "        # 重みの型を取る\n",
    "        N, C, FH, FW = self.F.shape\n",
    "        \n",
    "        F = self.F\n",
    "        B = self.B\n",
    "\n",
    "        # 出力サイズ\n",
    "        H_out = (H - FH) //  stride + 1\n",
    "        W_out = (W - FW) //  stride + 1\n",
    "        \n",
    "        self.H_out = H_out #backward用\n",
    "        self.W_out = W_out #backward用\n",
    "        \n",
    "        out = np.zeros((N, C, H_out, W_out))\n",
    "\n",
    "        for n in range(N):\n",
    "            for c in range(C):\n",
    "                for h in range(H_out): \n",
    "                    for w in range(W_out):\n",
    "                        out[n, c, h, w] += (X[n, c, (h*stride) : (h*stride)+FH, (w*stride) : (w*stride)+FW] * F[n, c, :, :]).sum()\n",
    "                    out[n, c, :, :] += B\n",
    "    \n",
    "        return out\n",
    "    \n",
    "    \n",
    "    def conv_backward(self, dA):\n",
    "        \n",
    "        \"\"\"\n",
    "        バックワード\n",
    "        \n",
    "        Parameters\n",
    "        ----------\n",
    "        dA : 次の形のndarray, shape (batch_size, n_nodes2)\n",
    "            後ろから流れてきた勾配\n",
    "            \n",
    "        Returns\n",
    "        ----------\n",
    "        dZ : 次の形のndarray, shape (batch_size, n_nodes1)\n",
    "            前に流す勾配\n",
    "            \n",
    "        \"\"\"\n",
    "        \n",
    "        N = self.N #入力サンプル数\n",
    "        C = self.C # 入力チャネル数\n",
    "        H = self.H #高さ方向の特徴量\n",
    "        W = self.W #幅方向の特徴量\n",
    "        \n",
    "        O = self.O # 出力チャネル数\n",
    "        FH = self.FH #フィルタ高さ\n",
    "        FW = self.FW # フィルタ幅\n",
    "        \n",
    "        H_out = self.H_out\n",
    "        W_out = self.W_out\n",
    "        \n",
    "        # ストライド・パディング\n",
    "        stride = self.stride\n",
    "        pad = self.pad\n",
    "        \n",
    "        X = self.X\n",
    "        \n",
    "        # delta_x\n",
    "        delta_x = np.zeros((self.X.shape))\n",
    "        F = self.F\n",
    "        \n",
    "        for n in range(N):\n",
    "            for c in range(C):\n",
    "                for h in range(H_out): \n",
    "                    for w in range(W_out):\n",
    "                        delta_x[n, c, (h*stride) : (h*stride)+FH, (w*stride) : (w*stride)+FW] += dA[n, c, h, w] * F[n, c, :, :]\n",
    "        \n",
    "        delta_x = delta_x[:, :, pad : -pad, pad : -pad]\n",
    "        self.delta_x = delta_x\n",
    "        \n",
    "\n",
    "        # delta_b\n",
    "        delta_b = np.zeros((self.B.shape))\n",
    "\n",
    "        for n in range(N):\n",
    "            for c in range(C):\n",
    "                for h in range(H_out): \n",
    "                    for w in range(W_out):\n",
    "                        delta_b[c] += dA[n, c, h, w].sum()   \n",
    "                        \n",
    "        self.delta_b = delta_b\n",
    "\n",
    "        \n",
    "        # delta_f\n",
    "        delta_f = np.zeros((self.F.shape))\n",
    "        \n",
    "        for n in range(N):\n",
    "            for c in range(C):\n",
    "                for h in range(H_out): \n",
    "                    for w in range(W_out):\n",
    "                        delta_f[n, c, :, :] += dA[n, c, h, w] * X[n, c, (h*stride) : (h*stride)+FH, (w*stride) : (w*stride)+FW]\n",
    "                        \n",
    "        self.delta_f = delta_f\n",
    "                        \n",
    "        \n",
    "        # optimizerに流す前にデータ型を揃える\n",
    "        self.delta_f = delta_f.astype(np.float64)\n",
    "        self.delta_b = delta_b.astype(np.float64)\n",
    "        \n",
    "        # 更新\n",
    "        self.F -= self.lr * delta_f\n",
    "        self.B -= self.lr * delta_b\n",
    "        #self.optimizer.update(self)\n",
    "        \n",
    "        #print(\"self.F\" + str(self.F))\n",
    "        #print(\"self.B\" + str(self.B))\n",
    "        \n",
    "        return delta_x"
   ]
  },
  {
   "cell_type": "code",
   "execution_count": 81,
   "metadata": {},
   "outputs": [],
   "source": [
    "# Max Pooling層\n",
    "\n",
    "class MaxPool2d():\n",
    "    \n",
    "    \"\"\"\n",
    "    ノード数n_nodes1からn_nodes2への全結合層\n",
    "    Parameters\n",
    "    ----------\n",
    "    n_nodes1 : int\n",
    "      前の層のノード数\n",
    "    n_nodes2 : int\n",
    "      後の層のノード数\n",
    "    initializer : 初期化方法のインスタンス\n",
    "    optimizer : 最適化手法のインスタンス\n",
    "    \"\"\"\n",
    "    \n",
    "    def __init__(self, stride, PFH, PFW):\n",
    "        \n",
    "        self.X = None\n",
    "        \n",
    "        self.N = None #入力サンプル数\n",
    "        self.C = None # 入力チャネル数\n",
    "        self.H = None #高さ方向の特徴量\n",
    "        self.W = None #幅方向の特徴量\n",
    "        \n",
    "        self.O = None # 出力チャネル数\n",
    "        self.PFH = PFH #フィルタ高さ\n",
    "        self.PFW = PFW # フィルタ幅\n",
    "        \n",
    "        self.stride = stride\n",
    "        \n",
    "        self.H_out = None\n",
    "        self.W_out = None\n",
    "        \n",
    "        self.out_map = None\n",
    "        \n",
    "        \n",
    "    def calc_kernel_2d(self, H, W):\n",
    "    \n",
    "        H_out = (H + 2*pad - FH) //  stride + 1\n",
    "        W_out = (W + 2*pad - FW) //  stride + 1\n",
    "        return H_out, W_out\n",
    "\n",
    "    \n",
    "    def pool_forward(self, X):\n",
    "        \"\"\"\n",
    "        フォワード\n",
    "        \n",
    "        Parameters\n",
    "        ----------\n",
    "        X : 次の形のndarray, shape (batch_size, n_nodes1)\n",
    "            入力\n",
    "            \n",
    "        Returns\n",
    "        ----------\n",
    "        A : 次の形のndarray, shape (batch_size, n_nodes2)\n",
    "            出力\n",
    "        \"\"\"\n",
    "        # ストライド\n",
    "        stride = self.stride\n",
    "               \n",
    "        # 入力の型\n",
    "        N, C, H, W = X.shape\n",
    "        \n",
    "        self.N = N #コンストラクタに値を保存\n",
    "        self.C = C\n",
    "        self.H = H \n",
    "        self.W = W\n",
    "        \n",
    "        self.X = X\n",
    "        \n",
    "        # 出力サイズ\n",
    "        H_out, W_out = self.calc_kernel_2d(H, W)\n",
    "        \n",
    "        self.H_out = H_out \n",
    "        self.W_out = W_out\n",
    "        \n",
    "        out = np.zeros([N, C, H_out, W_out])\n",
    "        out_map = np.zeros((X.shape))\n",
    "\n",
    "\n",
    "        for n in range(N):\n",
    "            for c in range(C):\n",
    "                for h in range(H_out): \n",
    "                    for w in range(W_out):\n",
    "                        out[n, c, h, w] += np.max(X[n, c, h*stride : h*stride+PFH, w*stride : w*stride+PFW])\n",
    "                        out_map[n, c, h*stride : h*stride+PFH, w*stride : w*stride+PFW] += X[n, c, h*stride : h*stride+PFH, w*stride : w*stride+PFW].max()==X[n, c, h*stride : h*stride+PFH, w*stride : w*stride+PFW]\n",
    "        \n",
    "        # コンストラクタに位置情報のマップを保存\n",
    "        self.out_map = out_map \n",
    "        \n",
    "        return out\n",
    "    \n",
    "    \n",
    "    def pool_backward(self, dA):\n",
    "        \n",
    "        \"\"\"\n",
    "        バックワード\n",
    "        \n",
    "        Parameters\n",
    "        ----------\n",
    "        dA : 次の形のndarray, shape (batch_size, n_nodes2)\n",
    "            後ろから流れてきた勾配\n",
    "            \n",
    "        Returns\n",
    "        ----------\n",
    "        dZ : 次の形のndarray, shape (batch_size, n_nodes1)\n",
    "            前に流す勾配\n",
    "            \n",
    "        \"\"\"\n",
    "        \n",
    "        N = self.N #入力サンプル数\n",
    "        C = self.C # 入力チャネル数\n",
    "        H = self.H #高さ方向の特徴量\n",
    "        W = self.W #幅方向の特徴量\n",
    "        \n",
    "        PFH = self.PFH #フィルタ高さ\n",
    "        PFW = self.PFW # フィルタ幅\n",
    "        \n",
    "        H_out = self.H_out\n",
    "        W_out = self.W_out\n",
    "        \n",
    "        stride = self.stride\n",
    "        \n",
    "        out_map = self.out_map\n",
    "        \n",
    "        dZ = np.zeros((out_map.shape))\n",
    "\n",
    "        for n in range(N):\n",
    "            for c in range(C):\n",
    "                for h in range(H_out):\n",
    "                    for w in range(W_out):\n",
    "                        dZ[n, c, h*stride : h*stride+PFH, w*stride : w*stride+PFW] += np.where(out_map[n, c, h*stride : h*stride+PFH, w*stride : w*stride+PFW]==1, dA[n, c, h, w], 0)\n",
    "        \n",
    "        return dZ"
   ]
  },
  {
   "cell_type": "code",
   "execution_count": 82,
   "metadata": {},
   "outputs": [],
   "source": [
    "# 平滑化層\n",
    "\n",
    "class Flatten():\n",
    "    \n",
    "    def __init__(self):\n",
    "        \n",
    "        self.N = None\n",
    "        self.C = None\n",
    "        self.H = None\n",
    "        self.W = None\n",
    "\n",
    "        \n",
    "    def flat_forward(self, X):\n",
    "        \n",
    "        self.N, self.C, self.H, self.W = X.shape\n",
    "        out = X.reshape(self.N, -1)\n",
    "        return out\n",
    "    \n",
    "    \n",
    "    def flat_backward(self, dA):\n",
    "        \n",
    "        dout = dA.reshape(self.N, self.C, self.H, self.W)\n",
    "        return dout"
   ]
  },
  {
   "cell_type": "markdown",
   "metadata": {},
   "source": [
    "## Activation"
   ]
  },
  {
   "cell_type": "code",
   "execution_count": 83,
   "metadata": {},
   "outputs": [],
   "source": [
    "class Tanh:\n",
    "         \n",
    "    def forward(self, A):\n",
    "\n",
    "        self.Z = (np.exp(A) - np.exp(-A)) / (np.exp(A) + np.exp(-A))\n",
    "        return self.Z\n",
    "    \n",
    "    \n",
    "    def backward(self, dZ):\n",
    "        \n",
    "        dA = dZ*(1 - self.Z)**2\n",
    "        return dA"
   ]
  },
  {
   "cell_type": "code",
   "execution_count": 84,
   "metadata": {},
   "outputs": [],
   "source": [
    "class Softmax:\n",
    "    \n",
    "    def forward(self, A):\n",
    "        \n",
    "        A = A - np.max(A, axis=1, keepdims=True)\n",
    "        Z = np.exp(A) / np.sum(np.exp(A), axis=1, keepdims=True)\n",
    "        return Z\n",
    "        \n",
    "        \n",
    "    def backward(self, dZ, Y):\n",
    "        \n",
    "        batch_size = dZ.shape[0]\n",
    "        dA = (dZ - Y) / batch_size\n",
    "        \n",
    "        loss = (-1)*np.sum(Y * np.log(dZ + 1e-7))  / batch_size\n",
    "        \n",
    "        \n",
    "        return dA, loss"
   ]
  },
  {
   "cell_type": "code",
   "execution_count": 85,
   "metadata": {},
   "outputs": [],
   "source": [
    "class ReLU:\n",
    "    \n",
    "    def forward(self, A):\n",
    "\n",
    "        self.A = A\n",
    "        Z = np.maximum(0, A)\n",
    "        return Z\n",
    "        \n",
    "    \n",
    "    def backward(self, dZ):\n",
    "        \n",
    "        dA = np.where(self.A>0, dZ, 0)\n",
    "        return dA"
   ]
  },
  {
   "cell_type": "markdown",
   "metadata": {},
   "source": [
    "## Initializer"
   ]
  },
  {
   "cell_type": "code",
   "execution_count": 86,
   "metadata": {},
   "outputs": [],
   "source": [
    "class SimpleInitializer():\n",
    "    \n",
    "    \"\"\"\n",
    "    ガウス分布によるシンプルな初期化\n",
    "    Parameters\n",
    "    ----------\n",
    "    sigma : float\n",
    "      ガウス分布の標準偏差\n",
    "    \"\"\"\n",
    "    \n",
    "    def __init__(self, sigma=0.01):\n",
    "        \n",
    "        self.sigma = sigma\n",
    "        \n",
    "        \n",
    "    def W(self, n_nodes1, n_nodes2):\n",
    "        \n",
    "        \"\"\"\n",
    "        重みの初期化\n",
    "        \n",
    "        Parameters\n",
    "        ----------\n",
    "        n_nodes1 : int\n",
    "          前の層のノード数\n",
    "        n_nodes2 : int\n",
    "          後の層のノード数\n",
    "          \n",
    "        Returns\n",
    "        ----------\n",
    "        W :float\n",
    "            重みの初期値\n",
    "            \n",
    "        \"\"\"\n",
    "        \n",
    "        W = self.sigma * np.random.randn(n_nodes1, n_nodes2)\n",
    "        \n",
    "        return W\n",
    "    \n",
    "    \n",
    "    def B(self, n_nodes2):\n",
    "        \n",
    "        \"\"\"\n",
    "        バイアスの初期化\n",
    "        \n",
    "        Parameters\n",
    "        ----------\n",
    "        n_nodes2 : int\n",
    "          後の層のノード数\n",
    "          \n",
    "        Returns\n",
    "        ----------\n",
    "        B :float\n",
    "            バイアスの初期値\n",
    "            \n",
    "        \"\"\"\n",
    "        \n",
    "        B = self.sigma * np.random.randn(n_nodes2)\n",
    "        \n",
    "        return B"
   ]
  },
  {
   "cell_type": "code",
   "execution_count": 87,
   "metadata": {},
   "outputs": [],
   "source": [
    "class ConvInitializer():\n",
    "    \n",
    "    \"\"\"\n",
    "    ガウス分布によるシンプルな初期化\n",
    "    Parameters\n",
    "    ----------\n",
    "    sigma : float\n",
    "      ガウス分布の標準偏差\n",
    "    \"\"\"\n",
    "    \n",
    "    def __init__(self, sigma=0.01):\n",
    "        \n",
    "        self.sigma = sigma\n",
    "        \n",
    "        \n",
    "    def W(self, N, C, FH, FW):\n",
    "        \n",
    "        \"\"\"\n",
    "        重みの初期化\n",
    "        \n",
    "        Parameters\n",
    "        ----------\n",
    "        n_nodes1 : int\n",
    "          前の層のノード数\n",
    "        n_nodes2 : int\n",
    "          後の層のノード数\n",
    "          \n",
    "        Returns\n",
    "        ----------\n",
    "        W :float\n",
    "            重みの初期値\n",
    "            \n",
    "        \"\"\"\n",
    "        \n",
    "        W = self.sigma * np.random.randn(N, C, FH, FW)\n",
    "        \n",
    "        return W\n",
    "    \n",
    "    \n",
    "    def B(self, N):\n",
    "        \n",
    "        \"\"\"\n",
    "        バイアスの初期化\n",
    "        \n",
    "        Parameters\n",
    "        ----------\n",
    "        n_nodes2 : int\n",
    "          後の層のノード数\n",
    "          \n",
    "        Returns\n",
    "        ----------\n",
    "        B :float\n",
    "            バイアスの初期値\n",
    "            \n",
    "        \"\"\"\n",
    "        \n",
    "        B = self.sigma * np.random.randn(N)\n",
    "        \n",
    "        return B"
   ]
  },
  {
   "cell_type": "markdown",
   "metadata": {},
   "source": [
    "## Optimizer"
   ]
  },
  {
   "cell_type": "code",
   "execution_count": 88,
   "metadata": {},
   "outputs": [],
   "source": [
    "class SGD():\n",
    "    \n",
    "    \"\"\"\n",
    "    確率的勾配降下法\n",
    "    \n",
    "    Parameters\n",
    "    ----------\n",
    "    lr : 学習率\n",
    "    \n",
    "    \"\"\"\n",
    "    \n",
    "    def __init__(self, lr):\n",
    "        \n",
    "        self.lr = lr\n",
    "        \n",
    "        \n",
    "    def update(self, layer):\n",
    "        \n",
    "        \"\"\"\n",
    "        ある層の重みやバイアスの更新\n",
    "        \n",
    "        Parameters\n",
    "        ----------\n",
    "        layer : 更新前の層のインスタンス\n",
    "        \n",
    "        \"\"\"\n",
    "\n",
    "        layer.W -= self.lr * layer.dW\n",
    "        layer.B -= self.lr * layer.dB"
   ]
  },
  {
   "cell_type": "markdown",
   "metadata": {},
   "source": [
    "## Trainer"
   ]
  },
  {
   "cell_type": "code",
   "execution_count": 89,
   "metadata": {},
   "outputs": [],
   "source": [
    "class ScratchConvolutionalNeuralNetrowkClassifier():\n",
    "    \n",
    "    \"\"\"\n",
    "    任意の構成で学習と推定が行えるCNNクラス\n",
    "    \n",
    "    \"\"\"\n",
    "    \n",
    "    def __init__(self, fc_initializer, conv_initializer, optimizer, activator1, activator2, lr = 0.01,  batch_size = 20, n_features = 49, n_output = 10, sigma=0.01, n_epochs=20, verbose = True):\n",
    "        \n",
    "        self.verbose = verbose\n",
    "        \n",
    "        self.n_epochs = n_epochs\n",
    "        self.batch_size = batch_size\n",
    "        self.n_features = n_features\n",
    "        self.n_output = n_output\n",
    "        \n",
    "        self.Conv1 = None\n",
    "        self.Conv2 = None\n",
    "        \n",
    "        self.Pool1 = None\n",
    "        self.Pool2 = None\n",
    "        \n",
    "        self.Flat = None\n",
    "        self.FC = None\n",
    "        \n",
    "        self.fc_initializer = fc_initializer\n",
    "        self.conv_initializer = conv_initializer\n",
    "        \n",
    "        self.optimizer = optimizer\n",
    "        self.lr = lr\n",
    "        \n",
    "        self.activator1 = activator1\n",
    "        self.activator2 = activator2   \n",
    "        \n",
    "        self.sigma = sigma\n",
    "        \n",
    "        self.loss = None\n",
    "        self.val_loss = None\n",
    "        \n",
    "        self.loss_hist = []\n",
    "        self.val_loss_hist = []\n",
    "        \n",
    "        \n",
    "    # 訓練時に１エポック分の処理を行う関数\n",
    "    def forward_and_backward(self, X, y):\n",
    "        \n",
    "        # one-hot変換\n",
    "        Y = np.identity(10)[y]\n",
    "        \n",
    "        \n",
    "        # サンプルコード2 : フォワード\n",
    "        A1 = self.Conv1.conv_forward(X)\n",
    "        #print(\"A1\"+ str(A1.shape))\n",
    "        \n",
    "        Z1 = self.activation1.forward(A1)\n",
    "        #print(\"Z1\" + str(Z1.shape))\n",
    "        \n",
    "        P1 = self.Pool1.pool_forward(Z1)\n",
    "        #print(\"P1\" + str(P1.shape))\n",
    "        \n",
    "        A2 = self.Conv2.conv_forward(P1)\n",
    "        #print(\"A2\" + str(A2.shape))\n",
    "        \n",
    "        Z2 = self.activation2.forward(A2)\n",
    "        #print(\"Z2\"+str(Z2.shape))\n",
    "        \n",
    "        P2 = self.Pool2.pool_forward(Z2)\n",
    "        #print(\"P2\"+str(P2.shape))\n",
    "        \n",
    "        F1 = self.Flat.flat_forward(P2)\n",
    "        #print(\"F1\"+str(F1.shape))\n",
    "        \n",
    "        A3 = self.FC.forward(F1)\n",
    "        #print(\"A3\"+str(A3.shape))\n",
    "        \n",
    "        Z3 = self.activation3.forward(A3)        \n",
    "        #print(\"Z3\"+str(Z3.shape))\n",
    "        \n",
    "    \n",
    "        # サンプルコード3 : バックワード\n",
    "        dA3, self.loss = self.activation3.backward(Z3, Y) # 交差エントロピー誤差とソフトマックスを合わせている\n",
    "        #print(\"dA3\"+str(dA3.shape))\n",
    "            \n",
    "        dZ2 = self.FC.backward(dA3)\n",
    "        #print(\"dZ2\"+str(dZ2.shape))\n",
    "        \n",
    "        dF1 = self.Flat.flat_backward(dZ2)\n",
    "        #print(\"dF1\"+str(dF1.shape))\n",
    "        \n",
    "        dP2 = self.Pool2.pool_backward(dF1)\n",
    "        #print(\"dP2\"+str(dP2.shape))\n",
    "        \n",
    "        dA2 = self.activation2.backward(dP2)\n",
    "        #print(\"dA2\"+str(dA2.shape))\n",
    "        \n",
    "        dZ1 = self.Conv2.conv_backward(dA2)\n",
    "        #print(\"dZ1\"+str(dZ1.shape))\n",
    "        \n",
    "        dP1 = self.Pool1.pool_backward(dZ1)\n",
    "        #print(\"dP1\" + str(dP1.shape))\n",
    "        \n",
    "        dA1 = self.activation1.backward(dP1)\n",
    "        #print(\"dA1\"+str(dA1.shape))\n",
    "        \n",
    "        dZ0 = self.Conv1.conv_backward(dA1) # dZ0は使用しない\n",
    "        #print(\"dZ0\" + str(dZ0.shape))\n",
    "    \n",
    "    \n",
    "    # このエポックで更新した重みを使って検証する関数\n",
    "    def forward_with_loss(self, X, y):\n",
    "        \n",
    "        Y = np.identity(10)[y]\n",
    "        \n",
    "        # サンプルコード2 : フォワード\n",
    "        A1 = self.Conv1.conv_forward(X)\n",
    "        #print(\"A1\"+ str(A1.shape))\n",
    "        \n",
    "        Z1 = self.activation1.forward(A1)\n",
    "        #print(\"Z1\" + str(Z1.shape))\n",
    "        \n",
    "        P1 = self.Pool1.pool_forward(Z1)\n",
    "        #print(\"P1\" + str(P1.shape))\n",
    "        \n",
    "        A2 = self.Conv2.conv_forward(P1)\n",
    "        #print(\"A2\" + str(A2.shape))\n",
    "        \n",
    "        Z2 = self.activation2.forward(A2)\n",
    "        #print(\"Z2\"+str(Z2.shape))\n",
    "        \n",
    "        P2 = self.Pool2.pool_forward(Z2)\n",
    "        #print(\"P2\"+str(P2.shape))\n",
    "        \n",
    "        F1 = self.Flat.flat_forward(P2)\n",
    "        #print(\"F1\"+str(F1.shape))\n",
    "        \n",
    "        A3 = self.FC.forward(F1)\n",
    "        #print(\"A3\"+str(A3.shape))\n",
    "        \n",
    "        Z3 = self.activation3.forward(A3)        \n",
    "        #print(\"Z3\"+str(Z3.shape))\n",
    "        \n",
    "        dA3, self.val_loss = self.activation3.backward(Z3, Y) \n",
    "        \n",
    "        \n",
    "    \n",
    "    def fit(self, X, y, X_val=None, y_val=None):\n",
    "        \n",
    "        \"\"\"\n",
    "        self.sigma : ガウス分布の標準偏差\n",
    "        self.lr : 学習率\n",
    "        self.n_nodes1 : 1層目のノード数\n",
    "        self.n_nodes2 : 2層目のノード数\n",
    "        self.n_output : 出力層のノード数\n",
    "        \"\"\"\n",
    "        #initializer, optimizer, lr = 0.001, FH=3, FW=3, stride=1, pad=1\n",
    "        self.Conv1 = Conv2d(self.conv_initializer(self.sigma), self.optimizer(self.lr), N=20, C=1, FH=3, FW=3, stride=1, pad=1)\n",
    "        self.activation1 = self.activator1\n",
    "    \n",
    "        self.Pool1 = MaxPool2d(stride=2, PFH=2, PFW=2)\n",
    "        \n",
    "        self.Conv2 = Conv2d(self.conv_initializer(self.sigma), self.optimizer(self.lr), N=20, C=1, FH=3, FW=3, stride=1, pad=1)\n",
    "        self.activation2 = self.activator2\n",
    "        \n",
    "        self.Pool2 = MaxPool2d(stride=2, PFH=2, PFW=2)\n",
    "        \n",
    "        self.Flat = Flatten()\n",
    "        \n",
    "        self.FC = FC(self.n_features, self.n_output, self.fc_initializer(self.sigma), self.optimizer(self.lr))\n",
    "        self.activation3 = Softmax()\n",
    "        \n",
    "        \n",
    "        # 訓練データのミニバッチを生成\n",
    "        get_mini_batch_train = GetMiniBatch(X, y, batch_size=self.batch_size)\n",
    "        \n",
    "        # 検証データのミニバッチを生成\n",
    "        get_mini_batch_val = GetMiniBatch(X_val, y_val, batch_size=self.batch_size)\n",
    "        \n",
    "        \n",
    "        for epoch in range(self.n_epochs):\n",
    "            \n",
    "            for mini_X_train, mini_y_train in get_mini_batch_train:\n",
    "                \n",
    "                # 順伝播・クロスエントロピー誤差・逆伝播\n",
    "                self.forward_and_backward(mini_X_train, mini_y_train)\n",
    "                \n",
    "            self.loss_hist.append(self.loss)\n",
    "            \n",
    "            # 検証\n",
    "            mini_X_val, mini_y_val = get_mini_batch_val[0]\n",
    "            self.forward_with_loss(mini_X_val, mini_y_val)\n",
    "            self.val_loss_hist.append(self.val_loss)\n",
    "        \n",
    "            \n",
    "            if self.verbose:\n",
    "\n",
    "                print('#'*25)\n",
    "                print('### Epoch %i'%(epoch+1))\n",
    "                print('#'*25)\n",
    "                \n",
    "                print(\"訓練データの損失 : {}\".format(self.loss))\n",
    "                print(\"検証データの損失 : {}\".format(self.val_loss))\n",
    "                \n",
    "                print()\n",
    "                \n",
    "                \n",
    "    \n",
    "    def predict(self, X):\n",
    "        \n",
    "        preds = []\n",
    "        \n",
    "        for i in range(int(X.shape[0] // self.batch_size)):\n",
    "            \n",
    "            X_batch = X[i*self.batch_size : i*self.batch_size + self.batch_size]     \n",
    "        \n",
    "            # サンプルコード2 : フォワード\n",
    "            A1 = self.Conv1.conv_forward(X_batch)\n",
    "            #print(\"A1\"+ str(A1.shape))\n",
    "\n",
    "            Z1 = self.activation1.forward(A1)\n",
    "            #print(\"Z1\" + str(Z1.shape))\n",
    "\n",
    "            P1 = self.Pool1.pool_forward(Z1)\n",
    "            #print(\"P1\" + str(P1.shape))\n",
    "\n",
    "            A2 = self.Conv2.conv_forward(P1)\n",
    "            #print(\"A2\" + str(A2.shape))\n",
    "\n",
    "            Z2 = self.activation2.forward(A2)\n",
    "            #print(\"Z2\"+str(Z2.shape))\n",
    "\n",
    "            P2 = self.Pool2.pool_forward(Z2)\n",
    "            #print(\"P2\"+str(P2.shape))\n",
    "\n",
    "            F1 = self.Flat.flat_forward(P2)\n",
    "            #print(\"F1\"+str(F1.shape))\n",
    "\n",
    "            A3 = self.FC.forward(F1)\n",
    "            #print(\"A3\"+str(A3.shape))\n",
    "\n",
    "            Z3 = self.activation3.forward(A3)        \n",
    "            #print(\"Z3\"+str(Z3.shape))\n",
    "\n",
    "            pred = Z3.argmax(axis=1)\n",
    "            preds.append(pred)\n",
    "            \n",
    "        out = np.array(preds)\n",
    "        out = out.ravel()\n",
    "        \n",
    "        return out"
   ]
  },
  {
   "cell_type": "code",
   "execution_count": 90,
   "metadata": {},
   "outputs": [],
   "source": [
    "cnn = ScratchConvolutionalNeuralNetrowkClassifier(fc_initializer=SimpleInitializer,\n",
    "                                                                                conv_initializer = ConvInitializer,\n",
    "                                                                                optimizer = SGD,\n",
    "                                                                                lr=0.001, \n",
    "                                                                                sigma=0.01, \n",
    "                                                                                activator1=ReLU(), \n",
    "                                                                                activator2=ReLU(), \n",
    "                                                                                n_epochs=10,\n",
    "                                                                                verbose = True\n",
    "                                                                                )"
   ]
  },
  {
   "cell_type": "code",
   "execution_count": 91,
   "metadata": {},
   "outputs": [
    {
     "name": "stderr",
     "output_type": "stream",
     "text": [
      "C:\\Users\\Tuwshu\\AppData\\Local\\Temp\\ipykernel_20032\\4116516092.py:26: DeprecationWarning: `np.int` is a deprecated alias for the builtin `int`. To silence this warning, use `int` by itself. Doing this will not modify any behavior and is safe. When replacing `np.int`, you may wish to use e.g. `np.int64` or `np.int32` to specify the precision. If you wish to review your current use, check the release note link for additional information.\n",
      "Deprecated in NumPy 1.20; for more details and guidance: https://numpy.org/devdocs/release/1.20.0-notes.html#deprecations\n",
      "  self._stop = np.ceil(X.shape[0]/self.batch_size).astype(np.int)\n"
     ]
    },
    {
     "ename": "KeyboardInterrupt",
     "evalue": "",
     "output_type": "error",
     "traceback": [
      "\u001b[1;31m---------------------------------------------------------------------------\u001b[0m",
      "\u001b[1;31mKeyboardInterrupt\u001b[0m                         Traceback (most recent call last)",
      "File \u001b[1;32m<timed eval>:1\u001b[0m, in \u001b[0;36m<module>\u001b[1;34m\u001b[0m\n",
      "\u001b[1;32mc:\\Users\\Tuwshu\\OneDrive - Эрдэнэт цогцолбор Дээд сургууль\\Documents\\DiveIntoCode\\sprint12_CNN2D.ipynb Cell 113\u001b[0m in \u001b[0;36mScratchConvolutionalNeuralNetrowkClassifier.fit\u001b[1;34m(self, X, y, X_val, y_val)\u001b[0m\n\u001b[0;32m    <a href='vscode-notebook-cell:/c%3A/Users/Tuwshu/OneDrive%20-%20%D0%AD%D1%80%D0%B4%D1%8D%D0%BD%D1%8D%D1%82%20%D1%86%D0%BE%D0%B3%D1%86%D0%BE%D0%BB%D0%B1%D0%BE%D1%80%20%D0%94%D1%8D%D1%8D%D0%B4%20%D1%81%D1%83%D1%80%D0%B3%D1%83%D1%83%D0%BB%D1%8C/Documents/DiveIntoCode/sprint12_CNN2D.ipynb#Y220sZmlsZQ%3D%3D?line=178'>179</a>\u001b[0m \u001b[39mfor\u001b[39;00m epoch \u001b[39min\u001b[39;00m \u001b[39mrange\u001b[39m(\u001b[39mself\u001b[39m\u001b[39m.\u001b[39mn_epochs):\n\u001b[0;32m    <a href='vscode-notebook-cell:/c%3A/Users/Tuwshu/OneDrive%20-%20%D0%AD%D1%80%D0%B4%D1%8D%D0%BD%D1%8D%D1%82%20%D1%86%D0%BE%D0%B3%D1%86%D0%BE%D0%BB%D0%B1%D0%BE%D1%80%20%D0%94%D1%8D%D1%8D%D0%B4%20%D1%81%D1%83%D1%80%D0%B3%D1%83%D1%83%D0%BB%D1%8C/Documents/DiveIntoCode/sprint12_CNN2D.ipynb#Y220sZmlsZQ%3D%3D?line=180'>181</a>\u001b[0m     \u001b[39mfor\u001b[39;00m mini_X_train, mini_y_train \u001b[39min\u001b[39;00m get_mini_batch_train:\n\u001b[0;32m    <a href='vscode-notebook-cell:/c%3A/Users/Tuwshu/OneDrive%20-%20%D0%AD%D1%80%D0%B4%D1%8D%D0%BD%D1%8D%D1%82%20%D1%86%D0%BE%D0%B3%D1%86%D0%BE%D0%BB%D0%B1%D0%BE%D1%80%20%D0%94%D1%8D%D1%8D%D0%B4%20%D1%81%D1%83%D1%80%D0%B3%D1%83%D1%83%D0%BB%D1%8C/Documents/DiveIntoCode/sprint12_CNN2D.ipynb#Y220sZmlsZQ%3D%3D?line=181'>182</a>\u001b[0m         \n\u001b[0;32m    <a href='vscode-notebook-cell:/c%3A/Users/Tuwshu/OneDrive%20-%20%D0%AD%D1%80%D0%B4%D1%8D%D0%BD%D1%8D%D1%82%20%D1%86%D0%BE%D0%B3%D1%86%D0%BE%D0%BB%D0%B1%D0%BE%D1%80%20%D0%94%D1%8D%D1%8D%D0%B4%20%D1%81%D1%83%D1%80%D0%B3%D1%83%D1%83%D0%BB%D1%8C/Documents/DiveIntoCode/sprint12_CNN2D.ipynb#Y220sZmlsZQ%3D%3D?line=182'>183</a>\u001b[0m         \u001b[39m# 順伝播・クロスエントロピー誤差・逆伝播\u001b[39;00m\n\u001b[1;32m--> <a href='vscode-notebook-cell:/c%3A/Users/Tuwshu/OneDrive%20-%20%D0%AD%D1%80%D0%B4%D1%8D%D0%BD%D1%8D%D1%82%20%D1%86%D0%BE%D0%B3%D1%86%D0%BE%D0%BB%D0%B1%D0%BE%D1%80%20%D0%94%D1%8D%D1%8D%D0%B4%20%D1%81%D1%83%D1%80%D0%B3%D1%83%D1%83%D0%BB%D1%8C/Documents/DiveIntoCode/sprint12_CNN2D.ipynb#Y220sZmlsZQ%3D%3D?line=183'>184</a>\u001b[0m         \u001b[39mself\u001b[39;49m\u001b[39m.\u001b[39;49mforward_and_backward(mini_X_train, mini_y_train)\n\u001b[0;32m    <a href='vscode-notebook-cell:/c%3A/Users/Tuwshu/OneDrive%20-%20%D0%AD%D1%80%D0%B4%D1%8D%D0%BD%D1%8D%D1%82%20%D1%86%D0%BE%D0%B3%D1%86%D0%BE%D0%BB%D0%B1%D0%BE%D1%80%20%D0%94%D1%8D%D1%8D%D0%B4%20%D1%81%D1%83%D1%80%D0%B3%D1%83%D1%83%D0%BB%D1%8C/Documents/DiveIntoCode/sprint12_CNN2D.ipynb#Y220sZmlsZQ%3D%3D?line=185'>186</a>\u001b[0m     \u001b[39mself\u001b[39m\u001b[39m.\u001b[39mloss_hist\u001b[39m.\u001b[39mappend(\u001b[39mself\u001b[39m\u001b[39m.\u001b[39mloss)\n\u001b[0;32m    <a href='vscode-notebook-cell:/c%3A/Users/Tuwshu/OneDrive%20-%20%D0%AD%D1%80%D0%B4%D1%8D%D0%BD%D1%8D%D1%82%20%D1%86%D0%BE%D0%B3%D1%86%D0%BE%D0%BB%D0%B1%D0%BE%D1%80%20%D0%94%D1%8D%D1%8D%D0%B4%20%D1%81%D1%83%D1%80%D0%B3%D1%83%D1%83%D0%BB%D1%8C/Documents/DiveIntoCode/sprint12_CNN2D.ipynb#Y220sZmlsZQ%3D%3D?line=187'>188</a>\u001b[0m     \u001b[39m# 検証\u001b[39;00m\n",
      "\u001b[1;32mc:\\Users\\Tuwshu\\OneDrive - Эрдэнэт цогцолбор Дээд сургууль\\Documents\\DiveIntoCode\\sprint12_CNN2D.ipynb Cell 113\u001b[0m in \u001b[0;36mScratchConvolutionalNeuralNetrowkClassifier.forward_and_backward\u001b[1;34m(self, X, y)\u001b[0m\n\u001b[0;32m    <a href='vscode-notebook-cell:/c%3A/Users/Tuwshu/OneDrive%20-%20%D0%AD%D1%80%D0%B4%D1%8D%D0%BD%D1%8D%D1%82%20%D1%86%D0%BE%D0%B3%D1%86%D0%BE%D0%BB%D0%B1%D0%BE%D1%80%20%D0%94%D1%8D%D1%8D%D0%B4%20%D1%81%D1%83%D1%80%D0%B3%D1%83%D1%83%D0%BB%D1%8C/Documents/DiveIntoCode/sprint12_CNN2D.ipynb#Y220sZmlsZQ%3D%3D?line=101'>102</a>\u001b[0m dA1 \u001b[39m=\u001b[39m \u001b[39mself\u001b[39m\u001b[39m.\u001b[39mactivation1\u001b[39m.\u001b[39mbackward(dP1)\n\u001b[0;32m    <a href='vscode-notebook-cell:/c%3A/Users/Tuwshu/OneDrive%20-%20%D0%AD%D1%80%D0%B4%D1%8D%D0%BD%D1%8D%D1%82%20%D1%86%D0%BE%D0%B3%D1%86%D0%BE%D0%BB%D0%B1%D0%BE%D1%80%20%D0%94%D1%8D%D1%8D%D0%B4%20%D1%81%D1%83%D1%80%D0%B3%D1%83%D1%83%D0%BB%D1%8C/Documents/DiveIntoCode/sprint12_CNN2D.ipynb#Y220sZmlsZQ%3D%3D?line=102'>103</a>\u001b[0m \u001b[39m#print(\"dA1\"+str(dA1.shape))\u001b[39;00m\n\u001b[1;32m--> <a href='vscode-notebook-cell:/c%3A/Users/Tuwshu/OneDrive%20-%20%D0%AD%D1%80%D0%B4%D1%8D%D0%BD%D1%8D%D1%82%20%D1%86%D0%BE%D0%B3%D1%86%D0%BE%D0%BB%D0%B1%D0%BE%D1%80%20%D0%94%D1%8D%D1%8D%D0%B4%20%D1%81%D1%83%D1%80%D0%B3%D1%83%D1%83%D0%BB%D1%8C/Documents/DiveIntoCode/sprint12_CNN2D.ipynb#Y220sZmlsZQ%3D%3D?line=104'>105</a>\u001b[0m dZ0 \u001b[39m=\u001b[39m \u001b[39mself\u001b[39;49m\u001b[39m.\u001b[39;49mConv1\u001b[39m.\u001b[39;49mconv_backward(dA1)\n",
      "\u001b[1;32mc:\\Users\\Tuwshu\\OneDrive - Эрдэнэт цогцолбор Дээд сургууль\\Documents\\DiveIntoCode\\sprint12_CNN2D.ipynb Cell 113\u001b[0m in \u001b[0;36mConv2d.conv_backward\u001b[1;34m(self, dA)\u001b[0m\n\u001b[0;32m    <a href='vscode-notebook-cell:/c%3A/Users/Tuwshu/OneDrive%20-%20%D0%AD%D1%80%D0%B4%D1%8D%D0%BD%D1%8D%D1%82%20%D1%86%D0%BE%D0%B3%D1%86%D0%BE%D0%BB%D0%B1%D0%BE%D1%80%20%D0%94%D1%8D%D1%8D%D0%B4%20%D1%81%D1%83%D1%80%D0%B3%D1%83%D1%83%D0%BB%D1%8C/Documents/DiveIntoCode/sprint12_CNN2D.ipynb#Y220sZmlsZQ%3D%3D?line=159'>160</a>\u001b[0m         \u001b[39mfor\u001b[39;00m h \u001b[39min\u001b[39;00m \u001b[39mrange\u001b[39m(H_out): \n\u001b[0;32m    <a href='vscode-notebook-cell:/c%3A/Users/Tuwshu/OneDrive%20-%20%D0%AD%D1%80%D0%B4%D1%8D%D0%BD%D1%8D%D1%82%20%D1%86%D0%BE%D0%B3%D1%86%D0%BE%D0%BB%D0%B1%D0%BE%D1%80%20%D0%94%D1%8D%D1%8D%D0%B4%20%D1%81%D1%83%D1%80%D0%B3%D1%83%D1%83%D0%BB%D1%8C/Documents/DiveIntoCode/sprint12_CNN2D.ipynb#Y220sZmlsZQ%3D%3D?line=160'>161</a>\u001b[0m             \u001b[39mfor\u001b[39;00m w \u001b[39min\u001b[39;00m \u001b[39mrange\u001b[39m(W_out):\n\u001b[1;32m--> <a href='vscode-notebook-cell:/c%3A/Users/Tuwshu/OneDrive%20-%20%D0%AD%D1%80%D0%B4%D1%8D%D0%BD%D1%8D%D1%82%20%D1%86%D0%BE%D0%B3%D1%86%D0%BE%D0%BB%D0%B1%D0%BE%D1%80%20%D0%94%D1%8D%D1%8D%D0%B4%20%D1%81%D1%83%D1%80%D0%B3%D1%83%D1%83%D0%BB%D1%8C/Documents/DiveIntoCode/sprint12_CNN2D.ipynb#Y220sZmlsZQ%3D%3D?line=161'>162</a>\u001b[0m                 delta_b[c] \u001b[39m+\u001b[39m\u001b[39m=\u001b[39m dA[n, c, h, w]\u001b[39m.\u001b[39msum()   \n\u001b[0;32m    <a href='vscode-notebook-cell:/c%3A/Users/Tuwshu/OneDrive%20-%20%D0%AD%D1%80%D0%B4%D1%8D%D0%BD%D1%8D%D1%82%20%D1%86%D0%BE%D0%B3%D1%86%D0%BE%D0%BB%D0%B1%D0%BE%D1%80%20%D0%94%D1%8D%D1%8D%D0%B4%20%D1%81%D1%83%D1%80%D0%B3%D1%83%D1%83%D0%BB%D1%8C/Documents/DiveIntoCode/sprint12_CNN2D.ipynb#Y220sZmlsZQ%3D%3D?line=163'>164</a>\u001b[0m \u001b[39mself\u001b[39m\u001b[39m.\u001b[39mdelta_b \u001b[39m=\u001b[39m delta_b\n\u001b[0;32m    <a href='vscode-notebook-cell:/c%3A/Users/Tuwshu/OneDrive%20-%20%D0%AD%D1%80%D0%B4%D1%8D%D0%BD%D1%8D%D1%82%20%D1%86%D0%BE%D0%B3%D1%86%D0%BE%D0%BB%D0%B1%D0%BE%D1%80%20%D0%94%D1%8D%D1%8D%D0%B4%20%D1%81%D1%83%D1%80%D0%B3%D1%83%D1%83%D0%BB%D1%8C/Documents/DiveIntoCode/sprint12_CNN2D.ipynb#Y220sZmlsZQ%3D%3D?line=166'>167</a>\u001b[0m \u001b[39m# delta_f\u001b[39;00m\n",
      "\u001b[1;31mKeyboardInterrupt\u001b[0m: "
     ]
    }
   ],
   "source": [
    "%%time\n",
    "\n",
    "cnn.fit(X_train, y_train, X_val, y_val)"
   ]
  },
  {
   "cell_type": "code",
   "execution_count": null,
   "metadata": {},
   "outputs": [
    {
     "data": {
      "text/plain": [
       "0.0853051847172703"
      ]
     },
     "execution_count": 332,
     "metadata": {},
     "output_type": "execute_result"
    }
   ],
   "source": [
    "cnn.val_loss"
   ]
  },
  {
   "cell_type": "code",
   "execution_count": null,
   "metadata": {},
   "outputs": [
    {
     "data": {
      "text/plain": [
       "(12000, 1, 28, 28)"
      ]
     },
     "execution_count": 333,
     "metadata": {},
     "output_type": "execute_result"
    }
   ],
   "source": [
    "X_val.shape"
   ]
  },
  {
   "cell_type": "code",
   "execution_count": null,
   "metadata": {},
   "outputs": [
    {
     "data": {
      "text/plain": [
       "(10000, 28, 28)"
      ]
     },
     "execution_count": 334,
     "metadata": {},
     "output_type": "execute_result"
    }
   ],
   "source": [
    "X_test.shape"
   ]
  },
  {
   "cell_type": "code",
   "execution_count": null,
   "metadata": {},
   "outputs": [
    {
     "data": {
      "text/plain": [
       "(10000, 1, 28, 28)"
      ]
     },
     "execution_count": 335,
     "metadata": {},
     "output_type": "execute_result"
    }
   ],
   "source": [
    "X_test2 = X_test[:, np.newaxis, :, :]\n",
    "X_test2.shape"
   ]
  },
  {
   "cell_type": "code",
   "execution_count": null,
   "metadata": {},
   "outputs": [
    {
     "data": {
      "text/plain": [
       "(10000, array([7, 2, 1, ..., 4, 5, 6]))"
      ]
     },
     "execution_count": 336,
     "metadata": {},
     "output_type": "execute_result"
    }
   ],
   "source": [
    "y_pred = cnn.predict(X_test2)\n",
    "len(y_pred), y_pred"
   ]
  },
  {
   "cell_type": "code",
   "execution_count": null,
   "metadata": {},
   "outputs": [
    {
     "data": {
      "text/plain": [
       "(10000, array([7, 2, 1, ..., 4, 5, 6], dtype=uint8))"
      ]
     },
     "execution_count": 337,
     "metadata": {},
     "output_type": "execute_result"
    }
   ],
   "source": [
    "len(y_test), y_test"
   ]
  },
  {
   "cell_type": "code",
   "execution_count": null,
   "metadata": {},
   "outputs": [
    {
     "data": {
      "text/plain": [
       "0.9015"
      ]
     },
     "execution_count": 338,
     "metadata": {},
     "output_type": "execute_result"
    }
   ],
   "source": [
    "# Accuracy\n",
    "\n",
    "from sklearn.metrics import accuracy_score\n",
    "\n",
    "accuracy = accuracy_score(y_test, y_pred)\n",
    "accuracy"
   ]
  },
  {
   "cell_type": "markdown",
   "metadata": {},
   "source": [
    "## LeNet"
   ]
  },
  {
   "cell_type": "code",
   "execution_count": null,
   "metadata": {},
   "outputs": [],
   "source": [
    "# LeNetの入力チャネルと出力チャネルの変化に対応\n",
    "\n",
    "class ConvInitializer():\n",
    "    \n",
    "    \"\"\"\n",
    "    ガウス分布によるシンプルな初期化\n",
    "    Parameters\n",
    "    ----------\n",
    "    sigma : float\n",
    "      ガウス分布の標準偏差\n",
    "    \"\"\"\n",
    "    \n",
    "    def __init__(self, sigma=0.01):\n",
    "        \n",
    "        self.sigma = sigma\n",
    "        \n",
    "        \n",
    "    def W(self, N, O, C, FH, FW):\n",
    "        \n",
    "        \"\"\"\n",
    "        重みの初期化\n",
    "        \n",
    "        Parameters\n",
    "        ----------\n",
    "        n_nodes1 : int\n",
    "          前の層のノード数\n",
    "        n_nodes2 : int\n",
    "          後の層のノード数\n",
    "          \n",
    "        Returns\n",
    "        ----------\n",
    "        W :float\n",
    "            重みの初期値\n",
    "            \n",
    "        \"\"\"\n",
    "        \n",
    "        W = self.sigma * np.random.randn(N, O, C, FH, FW)\n",
    "        \n",
    "        return W\n",
    "    \n",
    "    \n",
    "    def B(self, N, O):\n",
    "        \n",
    "        \"\"\"\n",
    "        バイアスの初期化\n",
    "        \n",
    "        Parameters\n",
    "        ----------\n",
    "        n_nodes2 : int\n",
    "          後の層のノード数\n",
    "          \n",
    "        Returns\n",
    "        ----------\n",
    "        B :float\n",
    "            バイアスの初期値\n",
    "            \n",
    "        \"\"\"\n",
    "        \n",
    "        B = self.sigma * np.random.randn(N, O)\n",
    "        \n",
    "        return B"
   ]
  },
  {
   "cell_type": "code",
   "execution_count": null,
   "metadata": {},
   "outputs": [],
   "source": [
    "# LeNetの入力チャネルと出力チャネルの変化に対応\n",
    "\n",
    "class Conv2d():\n",
    "    \n",
    "    \"\"\"\n",
    "    ノード数n_nodes1からn_nodes2への全結合層\n",
    "    Parameters\n",
    "    ----------\n",
    "    n_nodes1 : int\n",
    "      前の層のノード数\n",
    "    n_nodes2 : int\n",
    "      後の層のノード数\n",
    "    initializer : 初期化方法のインスタンス\n",
    "    optimizer : 最適化手法のインスタンス\n",
    "    \"\"\"\n",
    "    \n",
    "    def __init__(self, initializer, N, O, C, FH=3, FW=3, stride=1, pad=1, lr = 0.01):\n",
    "        \n",
    "        #self.optimizer = optimizer\n",
    "        \n",
    "        #forward\n",
    "        self.X = None\n",
    "        \n",
    "        self.N = N\n",
    "        self.O = O\n",
    "        self.C = C\n",
    "        self.H = None #高さ方向の特徴量\n",
    "        self.W = None #幅方向の特徴量\n",
    "        \n",
    "        self.FH = FH #フィルタ高さ\n",
    "        self.FW = FW # フィルタ幅\n",
    "        \n",
    "        self.initializer = initializer \n",
    "        self.F = self.initializer.W(N, O, C, FH, FW)\n",
    "        self.B = self.initializer.B(N, O)\n",
    "        \n",
    "        self.pad = pad\n",
    "        self.stride = stride\n",
    "        \n",
    "        self.H_out = None\n",
    "        self.W_out = None\n",
    "        \n",
    "        # self.dW = None\n",
    "        # self.dB = None\n",
    "        self.delta_f = None\n",
    "        self.delta_x = None\n",
    "        self.delta_b = None\n",
    "        \n",
    "        self.lr = lr\n",
    "    \n",
    "    \n",
    "    def conv_forward(self, X):\n",
    "        \"\"\"\n",
    "        フォワード\n",
    "        \n",
    "        Parameters\n",
    "        ----------\n",
    "        X : 次の形のndarray, shape (batch_size, n_nodes1)\n",
    "            入力\n",
    "            \n",
    "        Returns\n",
    "        ----------\n",
    "        A : 次の形のndarray, shape (batch_size, n_nodes2)\n",
    "            出力\n",
    "        \"\"\"\n",
    "        # ストライド・パディング\n",
    "        stride = self.stride\n",
    "        pad = self.pad\n",
    "               \n",
    "        # 入力にパディング\n",
    "        X = np.pad(X, [(0, 0), (0, 0),  (pad, pad), (pad, pad)])\n",
    "        \n",
    "        # 入力の型を取る\n",
    "        _, _, H, W = X.shape\n",
    "        \n",
    "        self.H = H #pad後\n",
    "        self.W = W #pad後\n",
    "        self.X = X\n",
    "        \n",
    "        O = self.O\n",
    "        N = self.N\n",
    "        \n",
    "        FH = self.FH\n",
    "        FW = self.FW\n",
    "        \n",
    "        F = self.F\n",
    "        B = self.B\n",
    "\n",
    "        # 出力サイズ\n",
    "        H_out = (H - FH) //  stride + 1\n",
    "        W_out = (W - FW) //  stride + 1\n",
    "        \n",
    "        self.H_out = H_out #backward用\n",
    "        self.W_out = W_out #backward用\n",
    "        \n",
    "        out = np.zeros((N, O, H_out, W_out))\n",
    "        \n",
    "        for n in range(N):\n",
    "            for o in range(O):\n",
    "                for c in range(C):\n",
    "                    for h in range(H_out): \n",
    "                        for w in range(W_out):\n",
    "                            out[n, o, h, w] += (X[n, c, (h*stride) : (h*stride)+FH, (w*stride) : (w*stride)+FW] * F[n, o, c, :, :]).sum()\n",
    "                    out[n, :, :, :] += B[n, o]\n",
    "    \n",
    "        return out\n",
    "    \n",
    "    \n",
    "    def conv_backward(self, dA):\n",
    "        \n",
    "        \"\"\"\n",
    "        バックワード\n",
    "        \n",
    "        Parameters\n",
    "        ----------\n",
    "        dA : 次の形のndarray, shape (batch_size, n_nodes2)\n",
    "            後ろから流れてきた勾配\n",
    "            \n",
    "        Returns\n",
    "        ----------\n",
    "        dZ : 次の形のndarray, shape (batch_size, n_nodes1)\n",
    "            前に流す勾配\n",
    "            \n",
    "        \"\"\"\n",
    "        \n",
    "        N = self.N #入力サンプル数\n",
    "        C = self.C # 入力チャネル数\n",
    "        H = self.H #高さ方向の特徴量\n",
    "        W = self.W #幅方向の特徴量\n",
    "        \n",
    "        FH = self.FH #フィルタ高さ\n",
    "        FW = self.FW # フィルタ幅\n",
    "        \n",
    "        H_out = self.H_out\n",
    "        W_out = self.W_out\n",
    "        \n",
    "        # ストライド・パディング\n",
    "        stride = self.stride\n",
    "        pad = self.pad\n",
    "        \n",
    "        X = self.X\n",
    "        \n",
    "        # delta_x\n",
    "        delta_x = np.zeros((self.X.shape))\n",
    "        F = self.F\n",
    "        \n",
    "    \n",
    "        for n in range(N):\n",
    "            for o in range(O):\n",
    "                for c in range(C):\n",
    "                    for h in range(H_out): \n",
    "                        for w in range(W_out):\n",
    "                            delta_x[n, c, h*stride : h*stride+FH, w*stride : w*stride+FW] += dA[n, o, h, w] * F[n, o, c, :, :]\n",
    "        \n",
    "        \n",
    "        if pad ==0:\n",
    "            pass\n",
    "        else:\n",
    "            delta_x = delta_x[:, :, pad : -pad, pad : -pad]\n",
    "        \n",
    "        \n",
    "        self.delta_x = delta_x\n",
    "        \n",
    "\n",
    "        # delta_b\n",
    "        delta_b = np.zeros((self.B.shape))\n",
    "\n",
    "        for n in range(N):\n",
    "            for o in range(O):\n",
    "                for h in range(H_out): \n",
    "                    for w in range(W_out):\n",
    "                        delta_b[n, o] += dA[n, o, :, :].sum()   \n",
    "                        \n",
    "        self.delta_b = delta_b\n",
    "\n",
    "        # delta_f\n",
    "        delta_f = np.zeros((self.F.shape))\n",
    "        \n",
    "        \n",
    "        for n in range(N):\n",
    "            for o in range(O):\n",
    "                for c in range(C):\n",
    "                    for h in range(H_out): \n",
    "                        for w in range(W_out):\n",
    "                            delta_f[n, o, c,  :, :] += dA[n, o, h, w] * X[n, c, (h*stride) : (h*stride)+FH, (w*stride) : (w*stride)+FW]\n",
    "                                    \n",
    "        self.delta_f = delta_f\n",
    "                        \n",
    "        # optimizerに流す前にデータ型を揃える\n",
    "        self.delta_f = delta_f.astype(np.float64)\n",
    "        self.delta_b = delta_b.astype(np.float64)\n",
    "        \n",
    "        # 更新\n",
    "        self.F -= self.lr * delta_f\n",
    "        self.B -= self.lr * delta_b\n",
    "        #self.optimizer.update(self)\n",
    "        \n",
    "        #print(\"self.F\" + str(self.F))\n",
    "        #print(\"self.B\" + str(self.B))\n",
    "        \n",
    "        return delta_x"
   ]
  },
  {
   "cell_type": "code",
   "execution_count": null,
   "metadata": {},
   "outputs": [],
   "source": [
    "class LeNet():\n",
    "    \n",
    "    \"\"\"\n",
    "    任意の構成で学習と推定が行えるCNNクラス\n",
    "    \n",
    "    \"\"\"\n",
    "    \n",
    "    def __init__(self, fc_initializer, conv_initializer, optimizer, activator1, activator2, activator3, activator4, activator5, lr = 0.01,  batch_size = 20, n_features = 49, n_output = 10, sigma=0.01, n_epochs=20, verbose = True):\n",
    "        \n",
    "        self.verbose = verbose\n",
    "        \n",
    "        self.n_epochs = n_epochs\n",
    "        self.batch_size = batch_size\n",
    "        self.n_features = n_features\n",
    "        self.n_output = n_output\n",
    "        \n",
    "        self.Conv1 = None\n",
    "        self.Conv2 = None\n",
    "        \n",
    "        self.Pool1 = None\n",
    "        self.Pool2 = None\n",
    "        \n",
    "        self.Flat = None\n",
    "        self.FC = None\n",
    "        \n",
    "        self.fc_initializer = fc_initializer\n",
    "        self.conv_initializer = conv_initializer\n",
    "        \n",
    "        self.optimizer = optimizer\n",
    "        self.lr = lr\n",
    "        \n",
    "        self.activator1 = activator1\n",
    "        self.activator2 = activator2\n",
    "        self.activator3 = activator3\n",
    "        self.activator4 = activator4\n",
    "        self.activator5 = activator5\n",
    "        \n",
    "        self.sigma = sigma\n",
    "        \n",
    "        self.loss = None\n",
    "        self.val_loss = None\n",
    "        \n",
    "        self.loss_hist = []\n",
    "        self.val_loss_hist = []\n",
    "        \n",
    "        \n",
    "    # 訓練時に１エポック分の処理を行う関数\n",
    "    def forward_and_backward(self, X, y):\n",
    "        \n",
    "        # one-hot変換\n",
    "        Y = np.identity(10)[y]\n",
    "        \n",
    "        \n",
    "        # サンプルコード2 : フォワード\n",
    "        A1 = self.Conv1.conv_forward(X)\n",
    "        #print(\"A1\"+ str(A1.shape))\n",
    "        \n",
    "        Z1 = self.activation1.forward(A1)\n",
    "        #print(\"Z1\" + str(Z1.shape))\n",
    "        \n",
    "        P1 = self.Pool1.pool_forward(Z1)\n",
    "        #print(\"P1\" + str(P1.shape))\n",
    "        \n",
    "        A2 = self.Conv2.conv_forward(P1)\n",
    "        #print(\"A2\" + str(A2.shape))\n",
    "        \n",
    "        Z2 = self.activation2.forward(A2)\n",
    "        #print(\"Z2\"+str(Z2.shape))\n",
    "        \n",
    "        P2 = self.Pool2.pool_forward(Z2)\n",
    "        #print(\"P2\"+str(P2.shape))\n",
    "        \n",
    "        Z3 = self.activation3.forward(P2) #Tanh\n",
    "        #print(\"Z3\"+str(Z3.shape))\n",
    "        \n",
    "        F1 = self.Flat.flat_forward(Z3)\n",
    "        #print(\"F1\"+str(F1.shape))\n",
    "        \n",
    "        A3 = self.FC1.forward(F1)\n",
    "        #print(\"A3\"+str(A3.shape))\n",
    "        \n",
    "        Z4 = self.activation4.forward(A3) # ReLU\n",
    "        #print(\"Z4\"+str(Z4.shape))\n",
    "        \n",
    "        A4 = self.FC2.forward(Z4)\n",
    "        #print(\"A4\"+str(A4.shape))\n",
    "        \n",
    "        Z5 = self.activation5.forward(A4) # ReLU\n",
    "        #print(\"Z5\"+str(Z5.shape))\n",
    "        \n",
    "        A5 = self.FC3.forward(Z5)\n",
    "        #print(\"A5\"+str(A5.shape))\n",
    "        \n",
    "        Z6 = self.activation6.forward(A5) # Softmax  \n",
    "        #print(\"Z6\"+str(Z6.shape))\n",
    "        \n",
    "    \n",
    "        # サンプルコード3 : バックワード\n",
    "        dZ6, self.loss = self.activation6.backward(Z6, Y) # 交差エントロピー誤差とソフトマックスを合わせている\n",
    "        #print(\"dZ6\"+str(dZ6.shape))\n",
    "            \n",
    "        dA5 = self.FC3.backward(dZ6)\n",
    "        #print(\"dA5\"+str(dA5.shape))\n",
    "        \n",
    "        dZ5 = self.activation5.backward(dA5)\n",
    "        #print(\"dZ5\"+str(dZ5.shape))\n",
    "        \n",
    "        dA4 = self.FC2.backward(dZ5)\n",
    "        #print(\"dA4\"+str(A4.shape))\n",
    "        \n",
    "        dZ4 = self.activation4.backward(dA4)\n",
    "        #print(\"dZ4\"+str(dZ4.shape))\n",
    "        \n",
    "        dA3 = self.FC1.backward(dZ4)\n",
    "        #print(\"dA3\"+str(dA3.shape))\n",
    "        \n",
    "        dF1 = self.Flat.flat_backward(dA3)\n",
    "        #print(\"dF1\"+str(dF1.shape))\n",
    "        \n",
    "        dZ3 = self.activation3.backward(dF1)\n",
    "        #print(\"dZ3\"+str(dZ3.shape))\n",
    "        \n",
    "        dP2 = self.Pool2.pool_backward(dZ3)\n",
    "        #print(\"dP2\"+str(dP2.shape))\n",
    "        \n",
    "        dA2 = self.activation2.backward(dP2)\n",
    "        #print(\"dA2\"+str(dA2.shape))\n",
    "        \n",
    "        dZ1 = self.Conv2.conv_backward(dA2)\n",
    "        #print(\"dZ1\"+str(dZ1.shape))\n",
    "        \n",
    "        dP1 = self.Pool1.pool_backward(dZ1)\n",
    "        #print(\"dP1\" + str(dP1.shape))\n",
    "        \n",
    "        dA1 = self.activation1.backward(dP1)\n",
    "        #print(\"dA1\"+str(dA1.shape))\n",
    "        \n",
    "        dZ0 = self.Conv1.conv_backward(dA1) # dZ0は使用しない\n",
    "        #print(\"dZ0\" + str(dZ0.shape))\n",
    "    \n",
    "    \n",
    "    # このエポックで更新した重みを使って検証する関数\n",
    "    def forward_with_loss(self, X, y):\n",
    "        \n",
    "        # one-hot変換\n",
    "        Y = np.identity(10)[y]\n",
    " \n",
    "        \n",
    "        # サンプルコード2 : フォワード\n",
    "        A1 = self.Conv1.conv_forward(X)\n",
    "        #print(\"A1\"+ str(A1.shape))\n",
    "        \n",
    "        Z1 = self.activation1.forward(A1)\n",
    "        #print(\"Z1\" + str(Z1.shape))\n",
    "        \n",
    "        P1 = self.Pool1.pool_forward(Z1)\n",
    "        #print(\"P1\" + str(P1.shape))\n",
    "        \n",
    "        A2 = self.Conv2.conv_forward(P1)\n",
    "        #print(\"A2\" + str(A2.shape))\n",
    "        \n",
    "        Z2 = self.activation2.forward(A2)\n",
    "        #print(\"Z2\"+str(Z2.shape))\n",
    "        \n",
    "        P2 = self.Pool2.pool_forward(Z2)\n",
    "        #print(\"P2\"+str(P2.shape))\n",
    "        \n",
    "        Z3 = self.activation3.forward(P2) #Tanh\n",
    "        #print(\"Z3\"+str(Z3.shape))\n",
    "        \n",
    "        F1 = self.Flat.flat_forward(Z3)\n",
    "        #print(\"F1\"+str(F1.shape))\n",
    "        \n",
    "        A3 = self.FC1.forward(F1)\n",
    "        #print(\"A3\"+str(A3.shape))\n",
    "        \n",
    "        Z4 = self.activation4.forward(A3) # ReLU\n",
    "        #print(\"Z4\"+str(Z4.shape))\n",
    "        \n",
    "        A4 = self.FC2.forward(Z4)\n",
    "        #print(\"A4\"+str(A4.shape))\n",
    "        \n",
    "        Z5 = self.activation5.forward(A4) # ReLU\n",
    "        #print(\"Z5\"+str(Z5.shape))\n",
    "        \n",
    "        A5 = self.FC3.forward(Z5)\n",
    "        #print(\"A5\"+str(A5.shape))\n",
    "        \n",
    "        Z6 = self.activation6.forward(A5) # Softmax  \n",
    "        #print(\"Z6\"+str(Z6.shape))\n",
    "    \n",
    "        # サンプルコード3 : バックワード\n",
    "        dZ6, self.val_loss = self.activation6.backward(Z6, Y) \n",
    "        \n",
    "        \n",
    "        \n",
    "        \n",
    "    \n",
    "    def fit(self, X, y, X_val=None, y_val=None):\n",
    "        \n",
    "        \"\"\"\n",
    "        self.sigma : ガウス分布の標準偏差\n",
    "        self.lr : 学習率\n",
    "        self.n_nodes1 : 1層目のノード数\n",
    "        self.n_nodes2 : 2層目のノード数\n",
    "        self.n_output : 出力層のノード数\n",
    "        \"\"\"\n",
    "        #initializer, optimizer, lr = 0.001, FH=3, FW=3, stride=1, pad=1\n",
    "        self.Conv1 = Conv2d(self.conv_initializer(self.sigma), N=20, O = 6, C=1, FH=5, FW=5, stride=1, pad=2)\n",
    "        self.activation1 = self.activator1\n",
    "    \n",
    "        self.Pool1 = MaxPool2d(stride=2, PFH=2, PFW=2)\n",
    "        \n",
    "        self.Conv2 = Conv2d(self.conv_initializer(self.sigma), N=20, O=16, C=6, FH=5, FW=5, stride=1, pad=0)\n",
    "        self.activation2 = self.activator2\n",
    "        \n",
    "        self.Pool2 = MaxPool2d(stride=2, PFH=2, PFW=2)\n",
    "        self.activation3 = self.activator3\n",
    "        \n",
    "        self.Flat = Flatten()\n",
    "        \n",
    "        self.FC1 = FC(400, 120, self.fc_initializer(self.sigma), self.optimizer(self.lr))\n",
    "        self.activation4 = self.activator4\n",
    "        \n",
    "        self.FC2 = FC(120, 84, self.fc_initializer(self.sigma), self.optimizer(self.lr))\n",
    "        self.activation5 = self.activator5\n",
    "        \n",
    "        self.FC3 = FC(84, self.n_output, self.fc_initializer(self.sigma), self.optimizer(self.lr))\n",
    "        self.activation6 = Softmax()\n",
    "        \n",
    "        \n",
    "        # 訓練データのミニバッチを生成\n",
    "        get_mini_batch_train = GetMiniBatch(X, y, batch_size=self.batch_size)\n",
    "        \n",
    "        # 検証データのミニバッチを生成\n",
    "        get_mini_batch_val = GetMiniBatch(X_val, y_val, batch_size=self.batch_size)\n",
    "        \n",
    "        \n",
    "        for epoch in range(self.n_epochs):\n",
    "            \n",
    "            for mini_X_train, mini_y_train in get_mini_batch_train:\n",
    "                \n",
    "                # 順伝播・クロスエントロピー誤差・逆伝播\n",
    "                self.forward_and_backward(mini_X_train, mini_y_train)\n",
    "                \n",
    "            self.loss_hist.append(self.loss)\n",
    "            \n",
    "            # 検証\n",
    "            mini_X_val, mini_y_val = get_mini_batch_val[0]\n",
    "            self.forward_with_loss(mini_X_val, mini_y_val)\n",
    "            self.val_loss_hist.append(self.val_loss)\n",
    "        \n",
    "            \n",
    "            if self.verbose:\n",
    "\n",
    "                print('#'*25)\n",
    "                print('### Epoch %i'%(epoch+1))\n",
    "                print('#'*25)\n",
    "                \n",
    "                print(\"訓練データの損失 : {}\".format(self.loss))\n",
    "                print(\"検証データの損失 : {}\".format(self.val_loss))\n",
    "                \n",
    "                print()\n",
    "                \n",
    "                \n",
    "    \n",
    "    def predict(self, X):\n",
    "        \n",
    "        A1 = self.Conv1.conv_forward(X)\n",
    "        #print(\"A1\"+ str(A1.shape))\n",
    "        \n",
    "        Z1 = self.activation1.forward(A1)\n",
    "        #print(\"Z1\" + str(Z1.shape))\n",
    "        \n",
    "        P1 = self.Pool1.pool_forward(Z1)\n",
    "        #print(\"P1\" + str(P1.shape))\n",
    "        \n",
    "        A2 = self.Conv2.conv_forward(P1)\n",
    "        #print(\"A2\" + str(A2.shape))\n",
    "        \n",
    "        Z2 = self.activation2.forward(A2)\n",
    "        #print(\"Z2\"+str(Z2.shape))\n",
    "        \n",
    "        P2 = self.Pool2.pool_forward(Z2)\n",
    "        #print(\"P2\"+str(P2.shape))\n",
    "        \n",
    "        Z3 = self.activation3.forward(P2) #Tanh\n",
    "        #print(\"Z3\"+str(Z3.shape))\n",
    "        \n",
    "        F1 = self.Flat.flat_forward(Z3)\n",
    "        #print(\"F1\"+str(F1.shape))\n",
    "        \n",
    "        A3 = self.FC.forward(F1)\n",
    "        #print(\"A3\"+str(A3.shape))\n",
    "        \n",
    "        Z4 = self.activation4.forward(A3) # ReLU\n",
    "        #print(\"Z4\"+str(Z4.shape))\n",
    "        \n",
    "        A4 = self.FC.forward(Z4)\n",
    "        #print(\"A4\"+str(A4.shape))\n",
    "        \n",
    "        Z5 = self.activation5.forward(A4) # Softmax  \n",
    "        #print(\"Z5\"+str(Z5.shape))\n",
    "        \n",
    "        pred = Z5.argmax(axis=1)\n",
    "        return pred"
   ]
  },
  {
   "cell_type": "code",
   "execution_count": null,
   "metadata": {},
   "outputs": [],
   "source": [
    "lenet = LeNet(fc_initializer=SimpleInitializer,\n",
    "                                                  conv_initializer = ConvInitializer,\n",
    "                                                  optimizer = SGD,\n",
    "                                                  lr=0.001, \n",
    "                                                  batch_size = 20,\n",
    "                                                  sigma=0.01, \n",
    "                                                  activator1=ReLU(), \n",
    "                                                  activator2=ReLU(), \n",
    "                                                  activator3=Tanh(),\n",
    "                                                  activator4=ReLU(),\n",
    "                                                  activator5=ReLU(),\n",
    "                                                  n_epochs=5,\n",
    "                                                  verbose = True\n",
    "                                                  )"
   ]
  },
  {
   "cell_type": "code",
   "execution_count": null,
   "metadata": {},
   "outputs": [
    {
     "name": "stderr",
     "output_type": "stream",
     "text": [
      "/Users/teruitakahiro/opt/anaconda3/envs/data_science/lib/python3.7/site-packages/ipykernel_launcher.py:26: DeprecationWarning: `np.int` is a deprecated alias for the builtin `int`. To silence this warning, use `int` by itself. Doing this will not modify any behavior and is safe. When replacing `np.int`, you may wish to use e.g. `np.int64` or `np.int32` to specify the precision. If you wish to review your current use, check the release note link for additional information.\n",
      "Deprecated in NumPy 1.20; for more details and guidance: https://numpy.org/devdocs/release/1.20.0-notes.html#deprecations\n"
     ]
    },
    {
     "name": "stdout",
     "output_type": "stream",
     "text": [
      "#########################\n",
      "### Epoch 1\n",
      "#########################\n",
      "訓練データの損失 : 2.3006242937171324\n",
      "検証データの損失 : 2.298204711704135\n",
      "\n",
      "#########################\n",
      "### Epoch 2\n",
      "#########################\n",
      "訓練データの損失 : 2.2998948739803278\n",
      "検証データの損失 : 2.295290796778331\n",
      "\n",
      "#########################\n",
      "### Epoch 3\n",
      "#########################\n",
      "訓練データの損失 : 2.299357236339567\n",
      "検証データの損失 : 2.293067741009478\n",
      "\n",
      "#########################\n",
      "### Epoch 4\n",
      "#########################\n",
      "訓練データの損失 : 2.298949031802921\n",
      "検証データの損失 : 2.291367706604727\n",
      "\n",
      "#########################\n",
      "### Epoch 5\n",
      "#########################\n",
      "訓練データの損失 : 2.298630649609449\n",
      "検証データの損失 : 2.290065434398339\n",
      "\n",
      "CPU times: user 19h 53min 37s, sys: 19min 9s, total: 20h 12min 47s\n",
      "Wall time: 20h 14min 27s\n"
     ]
    }
   ],
   "source": [
    "%%time\n",
    "\n",
    "lenet.fit(X_train, y_train, X_val, y_val)"
   ]
  },
  {
   "cell_type": "code",
   "execution_count": null,
   "metadata": {},
   "outputs": [],
   "source": []
  }
 ],
 "metadata": {
  "kernelspec": {
   "display_name": "Python 3.9.10 64-bit",
   "language": "python",
   "name": "python3"
  },
  "language_info": {
   "codemirror_mode": {
    "name": "ipython",
    "version": 3
   },
   "file_extension": ".py",
   "mimetype": "text/x-python",
   "name": "python",
   "nbconvert_exporter": "python",
   "pygments_lexer": "ipython3",
   "version": "3.9.10"
  },
  "vscode": {
   "interpreter": {
    "hash": "61cd1ad81b0b49d95900e9f994e246ba2944f031ec814ad1a13eecd2bb53c9fa"
   }
  }
 },
 "nbformat": 4,
 "nbformat_minor": 4
}
